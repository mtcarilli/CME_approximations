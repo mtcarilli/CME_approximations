{
 "cells": [
  {
   "cell_type": "markdown",
   "metadata": {},
   "source": [
    "# Train on Conditional PMFs P(m|n)\n",
    "\n",
    "\n",
    "First, load in modules."
   ]
  },
  {
   "cell_type": "code",
   "execution_count": 23,
   "metadata": {},
   "outputs": [],
   "source": [
    "import numpy as np\n",
    "import time\n",
    "from scipy import stats\n",
    "\n",
    "\n",
    "import torch\n",
    "import train_conditional as trc\n",
    "import tools_conditional as ttc"
   ]
  },
  {
   "cell_type": "markdown",
   "metadata": {},
   "source": [
    "Next, load in data. Data for conditional PMF training is stored in : \n",
    "\n",
    "1. '/home/mcarilli/CME/conditional_training_data'\n",
    "\n",
    "\n",
    "'Parameter' vectors are stored as {$\\textrm{log}_{10}(b), \\textrm{log}_{10}(\\beta),\\textrm{log}_{10}(\\gamma),n$},\n",
    "where $n$ is the nascent RNA count at which to calculate the conditional distribution P(m|n)."
   ]
  },
  {
   "cell_type": "code",
   "execution_count": 24,
   "metadata": {},
   "outputs": [],
   "source": [
    "path = '/home/mcarilli/CME/conditional_training_data/'"
   ]
  },
  {
   "cell_type": "code",
   "execution_count": 25,
   "metadata": {},
   "outputs": [],
   "source": [
    "train_list,test_list = trc.get_file_paths(set_size = 256,\n",
    "                                number_of_training_files=2,\n",
    "                                 number_of_testing_files=1,total_files=5,file_path=path)"
   ]
  },
  {
   "cell_type": "markdown",
   "metadata": {},
   "source": [
    "Calculating ypred at runtime! "
   ]
  },
  {
   "cell_type": "code",
   "execution_count": 507,
   "metadata": {},
   "outputs": [],
   "source": [
    "npdf = 10\n",
    "\n",
    "def get_NORM(npdf,quantiles='lin'):\n",
    "    if quantiles == 'lin':\n",
    "        q = np.linspace(0,1,npdf+2)[1:-1]\n",
    "        NORM = stats.norm.ppf(q)\n",
    "        NORM = torch.tensor(NORM)\n",
    "        return NORM\n",
    "    if quantiles == 'cheb':\n",
    "#         q = np.linspace(0,1,?npdf+2)[1:-1]\n",
    "        n = np.arange(npdf)\n",
    "        q = np.flip((np.cos((2*(n+1)-1)/(2*npdf)*np.pi)+1)/2)\n",
    "\n",
    "        NORM = stats.norm.ppf(q)\n",
    "        NORM = torch.tensor(NORM)\n",
    "        return NORM\n",
    "\n",
    "def generate_grid(npdf,VAR,MU,COV,m):\n",
    "    logvar = torch.log((VAR/MU**2)+1)\n",
    "    logstd = torch.sqrt(logvar)\n",
    "    logmean = torch.log(MU**2/torch.sqrt(VAR+MU**2))\n",
    "\n",
    "    logcov = torch.log(COV * torch.exp(-(logmean.sum()+logvar.sum()/2)) +1 ) \n",
    "    logcorr = logcov/torch.sqrt(logvar.prod())\n",
    "#         print(type(m))\n",
    "    logmean_cond = logmean[1] + logcorr * logstd[1]/logstd[0] * (torch.log(m+1) - logmean[0])\n",
    "    logstd_cond = logstd[1] * torch.sqrt(1-logcorr**2)   \n",
    "\n",
    "    translin = torch.exp(logmean_cond+logstd_cond*NORM)\n",
    "    return translin\n",
    "\n",
    "#     logstd = torch.sqrt(np.log((VAR/MU**2)+1))\n",
    "#     logmean = torch.log(MU**2/np.sqrt(VAR+MU**2))\n",
    "#     translin = torch.exp(logmean+logstd*NORM)\n",
    "#     return(translin)\n",
    "\n",
    "\n",
    "def get_ypred_at_RT(p,w,hyp,npdf=npdf,log=False):\n",
    "    '''Given a parameter vector (tensor) and weights (tensor), and hyperparameter,\n",
    "    calculates ypred (Y) at runtime.'''\n",
    "    \n",
    "    if log:\n",
    "        n = torch.exp(p[3])-1\n",
    "    else:\n",
    "        n = p[3]\n",
    "    p_vec = 10**p[:-1]\n",
    "    \n",
    "    # mean, variance, standard deviation of exact (2D) solution\n",
    "    MU, VAR, STD, xmax = trc.get_moments(p_vec)\n",
    "    COV = p_vec[0]**2/(p_vec[1] + p_vec[2])\n",
    "    \n",
    "#     # unpack mean, variance, STD for nascent and mature RNA \n",
    "    xmax_m = xmax[1]\n",
    "\n",
    "    grid = generate_grid(npdf,VAR,MU,COV,n)\n",
    "#     print(grid)\n",
    "    \n",
    "    s = torch.zeros(npdf)\n",
    "#     s[0] = grid[0]\n",
    "    s[:-1] = torch.diff(grid)\n",
    "    s *= hyp\n",
    "    s[-1] = torch.sqrt(grid[-1])\n",
    "    \n",
    "    v = s**2\n",
    "#     if torch.any(v<grid):\n",
    "#         v = torch.maximum(v,grid)\n",
    "    r = grid**2/(v-grid)\n",
    "    p_nb = 1-grid/v\n",
    "    \n",
    "#     r = (grid/s)**2 \n",
    "#     p_nb = 1/(1+s**2/grid)\n",
    "    xgrid = torch.arange(xmax_m+1)\n",
    "    Y = torch.zeros(xmax_m+1)\n",
    "    GAMMALN_XGRID = lnfactorial[1:len(xgrid)+1]\n",
    "\n",
    "    for i in range(npdf):\n",
    "        l = -grid[i] + xgrid * torch.log(grid[i]) - GAMMALN_XGRID\n",
    "        if (p_nb[i] >1e-10):\n",
    "            l += torch.special.gammaln(xgrid+r[i]) - torch.special.gammaln(r[i]) \\\n",
    "                - xgrid*torch.log(r[i] + grid[i]) + grid[i] \\\n",
    "                + r[i]*torch.log(r[i]/(r[i]+grid[i]))\n",
    "        Y += w[i]*torch.exp(l)\n",
    "\n",
    "#     for i in range(npdf):\n",
    "#         l = torch.special.gammaln(xgrid+r[i]) - GAMMALN_XGRID - torch.special.gammaln(r[i]) \\\n",
    "#             + xgrid*torch.log(1-p_nb[i]) + r[i]*torch.log(p_nb[i])\n",
    "    \n",
    "#         Y += w[i]*torch.exp(l)\n",
    "    EPS=1e-50\n",
    "    Y[Y<EPS]=EPS\n",
    "    return Y\n"
   ]
  },
  {
   "cell_type": "code",
   "execution_count": 463,
   "metadata": {},
   "outputs": [],
   "source": [
    "import matplotlib.pyplot as plt"
   ]
  },
  {
   "cell_type": "code",
   "execution_count": 473,
   "metadata": {},
   "outputs": [
    {
     "data": {
      "text/plain": [
       "[<matplotlib.lines.Line2D at 0x7f786a9893d0>]"
      ]
     },
     "execution_count": 473,
     "metadata": {},
     "output_type": "execute_result"
    },
    {
     "data": {
      "image/png": "[encoded data removed]",
      "text/plain": [
       "<Figure size 432x288 with 1 Axes>"
      ]
     },
     "metadata": {
      "needs_background": "light"
     },
     "output_type": "display_data"
    }
   ],
   "source": [
    "w_rand = np.random.rand(npdf)\n",
    "w_rand /= w_rand.sum()\n",
    "\n",
    "hyp = 1.5\n",
    "j=102\n",
    "y=get_ypred_at_RT(torch.tensor(train_list[j][0]),w_rand,hyp,npdf=npdf)\n",
    "plt.plot(y)\n",
    "plt.plot(train_list[j][1],'r--')"
   ]
  },
  {
   "cell_type": "markdown",
   "metadata": {},
   "source": [
    "Define NORM quantiles and lnfactorial."
   ]
  },
  {
   "cell_type": "code",
   "execution_count": 475,
   "metadata": {},
   "outputs": [],
   "source": [
    "NORM = get_NORM(npdf,quantiles='cheb')\n",
    "\n",
    "# precalculate lngammas\n",
    "lnfactorial = torch.special.gammaln(torch.arange(1003))"
   ]
  },
  {
   "cell_type": "markdown",
   "metadata": {},
   "source": [
    "For cleaner training, set up model configurations and training configurations to pass to train. \n",
    "\n",
    "Model is 2 hidden layers, with user-defined dimensions.\n",
    "\n",
    "Input dimension is 4 ('param vector' and n value), and output is npdf."
   ]
  },
  {
   "cell_type": "code",
   "execution_count": 476,
   "metadata": {},
   "outputs": [],
   "source": [
    "model_config = {\n",
    "    'npdf' : 10,\n",
    "    'h1_dim' : 256,\n",
    "    'h2_dim' : 128,\n",
    "    'norm_type' : 'softmax',\n",
    "    'num_training_params': 10, #is this ever actually used?\n",
    "}\n",
    "\n",
    "train_config = {\n",
    "    'num_epochs' : 10,\n",
    "    'lr' : 1e-3,\n",
    "    'batchsize' : 10,\n",
    "    'metric' : 'kld',\n",
    "}"
   ]
  },
  {
   "cell_type": "markdown",
   "metadata": {},
   "source": [
    "norm_type options:\n",
    "    1. 'softmax'\n",
    "    2. 'normalize' (applies sigmoid so all are positive, then normalizes)\n",
    "    3. None (takes absolute value of output weights)\n",
    "   \n",
    "metric options:\n",
    "    1. 'kld'\n",
    "    2. 'kld_normalized'\n",
    "    3. 'totalse'\n",
    "    4. 'mse'\n",
    "    5. 'maxabsdev'\n",
    "    6. 'maxabsdevlog'\n",
    "    7. 'mselog'\n",
    "    \n",
    "\n",
    "## And Train"
   ]
  },
  {
   "cell_type": "code",
   "execution_count": 477,
   "metadata": {},
   "outputs": [
    {
     "data": {
      "text/plain": [
       "<module 'train_conditional' from '/home/ggorin/projects/CME_approximations/Conditional/train_conditional.py'>"
      ]
     },
     "execution_count": 477,
     "metadata": {},
     "output_type": "execute_result"
    }
   ],
   "source": [
    "import importlib\n",
    "importlib.reload(trc)"
   ]
  },
  {
   "cell_type": "code",
   "execution_count": 478,
   "metadata": {},
   "outputs": [
    {
     "data": {
      "text/plain": [
       "38344"
      ]
     },
     "execution_count": 478,
     "metadata": {},
     "output_type": "execute_result"
    }
   ],
   "source": [
    "len(test_list)"
   ]
  },
  {
   "cell_type": "code",
   "execution_count": 479,
   "metadata": {},
   "outputs": [
    {
     "name": "stdout",
     "output_type": "stream",
     "text": [
      "Epoch Number: 0\n"
     ]
    },
    {
     "name": "stderr",
     "output_type": "stream",
     "text": [
      "/home/ggorin/miniconda3/lib/python3.9/site-packages/torch/nn/functional.py:1806: UserWarning: nn.functional.sigmoid is deprecated. Use torch.sigmoid instead.\n",
      "  warnings.warn(\"nn.functional.sigmoid is deprecated. Use torch.sigmoid instead.\")\n"
     ]
    },
    {
     "name": "stdout",
     "output_type": "stream",
     "text": [
      "Epoch Number: 1\n",
      "Epoch Number: 2\n",
      "Epoch Number: 3\n",
      "Epoch Number: 4\n",
      "Epoch Number: 5\n",
      "Epoch Number: 6\n",
      "Epoch Number: 7\n",
      "Epoch Number: 8\n",
      "Epoch Number: 9\n",
      "12.707628011703491\n"
     ]
    }
   ],
   "source": [
    "t1 = time.time()\n",
    "e,t,model = trc.train(train_list[:200],test_list[:200],model_config,train_config,get_ypred_at_RT)\n",
    "t2 = time.time()\n",
    "\n",
    "dt = t2-t1\n",
    "print(t2-t1)"
   ]
  },
  {
   "cell_type": "code",
   "execution_count": 480,
   "metadata": {},
   "outputs": [
    {
     "data": {
      "text/plain": [
       "Parameter containing:\n",
       "tensor([[ 0.5565,  0.2344, -0.2163, -0.2835],\n",
       "        [-0.0593,  0.2875, -0.1880,  0.4504],\n",
       "        [-0.1831, -0.4683, -0.1765,  0.0292],\n",
       "        ...,\n",
       "        [ 0.1831, -0.0614,  0.0113,  0.1921],\n",
       "        [ 0.3865, -0.1872, -0.0939,  0.1975],\n",
       "        [-0.1965, -0.3128, -0.1191,  0.4254]], requires_grad=True)"
      ]
     },
     "execution_count": 480,
     "metadata": {},
     "output_type": "execute_result"
    }
   ],
   "source": [
    "model.input.weight"
   ]
  },
  {
   "cell_type": "markdown",
   "metadata": {},
   "source": [
    "Save the model and meta data.\n",
    "\n",
    "Will save two files: \n",
    "    1. 'path/name_MODEL'\n",
    "    2. 'path/name_meta.npy'"
   ]
  },
  {
   "cell_type": "code",
   "execution_count": 452,
   "metadata": {},
   "outputs": [],
   "source": [
    "!mkdir -p models"
   ]
  },
  {
   "cell_type": "code",
   "execution_count": 453,
   "metadata": {},
   "outputs": [],
   "source": [
    "# ttc.save_model_and_meta(model,model_config,train_config,time,path,name)\n",
    "\n",
    "#example:\n",
    "# ttc.save_model_and_meta(model,model_config,train_config,time=dt,path='./models/',name='gg_220410_1k')"
   ]
  },
  {
   "cell_type": "markdown",
   "metadata": {},
   "source": [
    "Then, to load it in, I have defined a class Trained_Model.\n",
    "\n",
    "This includes:\n",
    "    1. example_model.model_configs (dictionary of model configurations) \n",
    "    2. example_model.train_configs (dictionary of training configurations)\n",
    "    3. example_model.time (time it took to train)\n",
    "    4. example_model.model (actual model)\n",
    "    "
   ]
  },
  {
   "cell_type": "code",
   "execution_count": 454,
   "metadata": {},
   "outputs": [],
   "source": [
    "# example_model = ttc.Trained_Model(path, name)\n",
    "\n",
    "#example:\n",
    "#save_model_and_meta('./models/','20220410_')"
   ]
  },
  {
   "cell_type": "markdown",
   "metadata": {},
   "source": [
    "-----\n",
    "\n",
    "## Validation and Plotting"
   ]
  },
  {
   "cell_type": "code",
   "execution_count": 481,
   "metadata": {},
   "outputs": [
    {
     "data": {
      "text/plain": [
       "array([0.12796517, 0.11694353, 0.10685867, 0.10047683, 0.09782393,\n",
       "       0.09625162, 0.09555404, 0.09455641, 0.0941214 , 0.09269655])"
      ]
     },
     "execution_count": 481,
     "metadata": {},
     "output_type": "execute_result"
    }
   ],
   "source": [
    "t"
   ]
  },
  {
   "cell_type": "code",
   "execution_count": 482,
   "metadata": {},
   "outputs": [
    {
     "data": {
      "image/png": "[encoded data removed]",
      "text/plain": [
       "<Figure size 648x432 with 1 Axes>"
      ]
     },
     "metadata": {
      "needs_background": "light"
     },
     "output_type": "display_data"
    }
   ],
   "source": [
    "ttc.plot_training(e,t,metric='kld')"
   ]
  },
  {
   "cell_type": "code",
   "execution_count": 483,
   "metadata": {},
   "outputs": [
    {
     "name": "stderr",
     "output_type": "stream",
     "text": [
      "/home/ggorin/miniconda3/lib/python3.9/site-packages/torch/nn/functional.py:1806: UserWarning: nn.functional.sigmoid is deprecated. Use torch.sigmoid instead.\n",
      "  warnings.warn(\"nn.functional.sigmoid is deprecated. Use torch.sigmoid instead.\")\n"
     ]
    }
   ],
   "source": [
    "metrics,metric_mean = trc.calculate_test_metrics(test_list[:100],model,get_ypred_at_RT,metric='kld')"
   ]
  },
  {
   "cell_type": "code",
   "execution_count": 484,
   "metadata": {},
   "outputs": [
    {
     "data": {
      "image/png": "[encoded data removed]",
      "text/plain": [
       "<Figure size 432x288 with 1 Axes>"
      ]
     },
     "metadata": {
      "needs_background": "light"
     },
     "output_type": "display_data"
    }
   ],
   "source": [
    "ttc.plot_CDF(metrics)"
   ]
  },
  {
   "cell_type": "markdown",
   "metadata": {},
   "source": [
    "But if we train again, with more data..."
   ]
  },
  {
   "cell_type": "code",
   "execution_count": 485,
   "metadata": {},
   "outputs": [
    {
     "name": "stdout",
     "output_type": "stream",
     "text": [
      "Epoch Number: 0\n",
      "Epoch Number: 1\n",
      "Epoch Number: 2\n",
      "Epoch Number: 3\n",
      "Epoch Number: 4\n",
      "Epoch Number: 5\n",
      "Epoch Number: 6\n",
      "Epoch Number: 7\n",
      "Epoch Number: 8\n",
      "Epoch Number: 9\n",
      "23.591772079467773\n"
     ]
    }
   ],
   "source": [
    "t1 = time.time()\n",
    "e,t,model = trc.train(train_list[:1000],test_list[:200],model_config,train_config,get_ypred_at_RT)\n",
    "t2 = time.time()\n",
    "\n",
    "dt = t2-t1\n",
    "print(t2-t1)"
   ]
  },
  {
   "cell_type": "code",
   "execution_count": 486,
   "metadata": {},
   "outputs": [
    {
     "data": {
      "text/plain": [
       "Parameter containing:\n",
       "tensor([[nan, nan, nan, nan],\n",
       "        [nan, nan, nan, nan],\n",
       "        [nan, nan, nan, nan],\n",
       "        ...,\n",
       "        [nan, nan, nan, nan],\n",
       "        [nan, nan, nan, nan],\n",
       "        [nan, nan, nan, nan]], requires_grad=True)"
      ]
     },
     "execution_count": 486,
     "metadata": {},
     "output_type": "execute_result"
    }
   ],
   "source": [
    "model.input.weight"
   ]
  },
  {
   "cell_type": "markdown",
   "metadata": {},
   "source": [
    "Let's try transforming."
   ]
  },
  {
   "cell_type": "code",
   "execution_count": 489,
   "metadata": {},
   "outputs": [],
   "source": [
    "import copy"
   ]
  },
  {
   "cell_type": "code",
   "execution_count": 508,
   "metadata": {},
   "outputs": [],
   "source": [
    "train_list_log = copy.deepcopy(train_list)\n",
    "test_list_log = copy.deepcopy(test_list)"
   ]
  },
  {
   "cell_type": "code",
   "execution_count": 509,
   "metadata": {},
   "outputs": [
    {
     "data": {
      "text/plain": [
       "array([ 0.26555198, -0.77010268,  0.3630054 ,  0.        ])"
      ]
     },
     "execution_count": 509,
     "metadata": {},
     "output_type": "execute_result"
    }
   ],
   "source": [
    "test_list_log[0][0]"
   ]
  },
  {
   "cell_type": "code",
   "execution_count": 510,
   "metadata": {},
   "outputs": [],
   "source": [
    "for i in range(len(test_list_log)):\n",
    "    test_list_log[i][0][-1] = np.log(test_list_log[i][0][-1] + 1)\n",
    "for i in range(len(train_list_log)):\n",
    "    train_list_log[i][0][-1] = np.log(train_list_log[i][0][-1] + 1)"
   ]
  },
  {
   "cell_type": "code",
   "execution_count": 511,
   "metadata": {},
   "outputs": [
    {
     "name": "stdout",
     "output_type": "stream",
     "text": [
      "Epoch Number: 0\n",
      "Epoch Number: 1\n",
      "Epoch Number: 2\n",
      "Epoch Number: 3\n",
      "Epoch Number: 4\n",
      "Epoch Number: 5\n",
      "Epoch Number: 6\n",
      "Epoch Number: 7\n",
      "Epoch Number: 8\n",
      "Epoch Number: 9\n",
      "23.971375465393066\n"
     ]
    }
   ],
   "source": [
    "t1 = time.time()\n",
    "ypred_fun = lambda p,w,hyp: get_ypred_at_RT(p,w,hyp,log=True)\n",
    "e,t,model = trc.train(train_list_log[:1000],test_list_log[:200],model_config,train_config,ypred_fun)\n",
    "t2 = time.time()\n",
    "\n",
    "dt = t2-t1\n",
    "print(t2-t1)"
   ]
  },
  {
   "cell_type": "code",
   "execution_count": 512,
   "metadata": {},
   "outputs": [
    {
     "data": {
      "text/plain": [
       "Parameter containing:\n",
       "tensor([[nan, nan, nan, nan],\n",
       "        [nan, nan, nan, nan],\n",
       "        [nan, nan, nan, nan],\n",
       "        ...,\n",
       "        [nan, nan, nan, nan],\n",
       "        [nan, nan, nan, nan],\n",
       "        [nan, nan, nan, nan]], requires_grad=True)"
      ]
     },
     "execution_count": 512,
     "metadata": {},
     "output_type": "execute_result"
    }
   ],
   "source": [
    "model.input.weight"
   ]
  },
  {
   "cell_type": "markdown",
   "metadata": {},
   "source": [
    "doesn't work :("
   ]
  },
  {
   "cell_type": "code",
   "execution_count": 399,
   "metadata": {},
   "outputs": [],
   "source": [
    "# ttc.plot_histogram(metrics,bins,metric='kld')"
   ]
  },
  {
   "cell_type": "code",
   "execution_count": null,
   "metadata": {},
   "outputs": [],
   "source": [
    "# test_list[:2]"
   ]
  },
  {
   "cell_type": "markdown",
   "metadata": {},
   "source": [
    "doesn't work yet."
   ]
  },
  {
   "cell_type": "code",
   "execution_count": 104,
   "metadata": {},
   "outputs": [
    {
     "ename": "IndexError",
     "evalue": "index 0 is out of bounds for dimension 0 with size 0",
     "output_type": "error",
     "traceback": [
      "\u001b[0;31m---------------------------------------------------------------------------\u001b[0m",
      "\u001b[0;31mIndexError\u001b[0m                                Traceback (most recent call last)",
      "\u001b[0;32m<ipython-input-104-6bf11f699ee4>\u001b[0m in \u001b[0;36m<module>\u001b[0;34m\u001b[0m\n\u001b[0;32m----> 1\u001b[0;31m \u001b[0mttc\u001b[0m\u001b[0;34m.\u001b[0m\u001b[0mplot_PMF_grid\u001b[0m\u001b[0;34m(\u001b[0m\u001b[0mtest_list\u001b[0m\u001b[0;34m[\u001b[0m\u001b[0;34m:\u001b[0m\u001b[0;36m25\u001b[0m\u001b[0;34m]\u001b[0m\u001b[0;34m,\u001b[0m\u001b[0mnpdf\u001b[0m\u001b[0;34m,\u001b[0m\u001b[0;36m5\u001b[0m\u001b[0;34m,\u001b[0m\u001b[0;36m5\u001b[0m\u001b[0;34m,\u001b[0m\u001b[0mmodel\u001b[0m\u001b[0;34m,\u001b[0m\u001b[0mget_ypred_at_RT\u001b[0m\u001b[0;34m,\u001b[0m\u001b[0mkld\u001b[0m\u001b[0;34m=\u001b[0m\u001b[0;32mTrue\u001b[0m\u001b[0;34m)\u001b[0m\u001b[0;34m\u001b[0m\u001b[0;34m\u001b[0m\u001b[0m\n\u001b[0m",
      "\u001b[0;32m~/projects/CME_approximations/Conditional/tools_conditional.py\u001b[0m in \u001b[0;36mplot_PMF_grid\u001b[0;34m(data_list, npdf, nrows, ncols, model, get_ypred_at_RT, kld)\u001b[0m\n\u001b[1;32m     22\u001b[0m     \u001b[0;32mfor\u001b[0m \u001b[0mr\u001b[0m \u001b[0;32min\u001b[0m \u001b[0mrand\u001b[0m\u001b[0;34m:\u001b[0m\u001b[0;34m\u001b[0m\u001b[0;34m\u001b[0m\u001b[0m\n\u001b[1;32m     23\u001b[0m         \u001b[0mr\u001b[0m \u001b[0;34m=\u001b[0m \u001b[0mint\u001b[0m\u001b[0;34m(\u001b[0m\u001b[0mr\u001b[0m\u001b[0;34m)\u001b[0m\u001b[0;34m\u001b[0m\u001b[0;34m\u001b[0m\u001b[0m\n\u001b[0;32m---> 24\u001b[0;31m         \u001b[0my_pred\u001b[0m \u001b[0;34m=\u001b[0m \u001b[0mtrc\u001b[0m\u001b[0;34m.\u001b[0m\u001b[0mget_predicted_PMF\u001b[0m\u001b[0;34m(\u001b[0m\u001b[0mp_list\u001b[0m\u001b[0;34m,\u001b[0m\u001b[0mposition\u001b[0m\u001b[0;34m=\u001b[0m\u001b[0mr\u001b[0m\u001b[0;34m,\u001b[0m\u001b[0mmodel\u001b[0m\u001b[0;34m=\u001b[0m\u001b[0mmodel\u001b[0m\u001b[0;34m,\u001b[0m\u001b[0mget_ypred_at_RT\u001b[0m\u001b[0;34m=\u001b[0m\u001b[0mget_ypred_at_RT\u001b[0m\u001b[0;34m)\u001b[0m\u001b[0;34m\u001b[0m\u001b[0;34m\u001b[0m\u001b[0m\n\u001b[0m\u001b[1;32m     25\u001b[0m \u001b[0;34m\u001b[0m\u001b[0m\n\u001b[1;32m     26\u001b[0m         \u001b[0my\u001b[0m\u001b[0;34m.\u001b[0m\u001b[0mappend\u001b[0m\u001b[0;34m(\u001b[0m\u001b[0my_list\u001b[0m\u001b[0;34m[\u001b[0m\u001b[0mr\u001b[0m\u001b[0;34m]\u001b[0m\u001b[0;34m)\u001b[0m\u001b[0;34m\u001b[0m\u001b[0;34m\u001b[0m\u001b[0m\n",
      "\u001b[0;32m~/projects/CME_approximations/Conditional/train_conditional.py\u001b[0m in \u001b[0;36mget_predicted_PMF\u001b[0;34m(p_list, position, model, get_ypred_at_RT)\u001b[0m\n\u001b[1;32m    119\u001b[0m     \u001b[0mw_\u001b[0m\u001b[0;34m,\u001b[0m\u001b[0mhyp_\u001b[0m\u001b[0;34m,\u001b[0m\u001b[0mw_un_\u001b[0m \u001b[0;34m=\u001b[0m \u001b[0mmodel\u001b[0m\u001b[0;34m(\u001b[0m\u001b[0mp_\u001b[0m\u001b[0;34m)\u001b[0m\u001b[0;34m\u001b[0m\u001b[0;34m\u001b[0m\u001b[0m\n\u001b[1;32m    120\u001b[0m \u001b[0;34m\u001b[0m\u001b[0m\n\u001b[0;32m--> 121\u001b[0;31m     \u001b[0mp\u001b[0m \u001b[0;34m=\u001b[0m \u001b[0mp_\u001b[0m\u001b[0;34m[\u001b[0m\u001b[0;36m0\u001b[0m\u001b[0;34m]\u001b[0m\u001b[0;34m\u001b[0m\u001b[0;34m\u001b[0m\u001b[0m\n\u001b[0m\u001b[1;32m    122\u001b[0m     \u001b[0mw\u001b[0m \u001b[0;34m=\u001b[0m \u001b[0mw_\u001b[0m\u001b[0;34m[\u001b[0m\u001b[0;36m0\u001b[0m\u001b[0;34m]\u001b[0m\u001b[0;34m\u001b[0m\u001b[0;34m\u001b[0m\u001b[0m\n\u001b[1;32m    123\u001b[0m     \u001b[0mhyp\u001b[0m \u001b[0;34m=\u001b[0m \u001b[0mhyp_\u001b[0m\u001b[0;34m[\u001b[0m\u001b[0;36m0\u001b[0m\u001b[0;34m]\u001b[0m\u001b[0;34m\u001b[0m\u001b[0;34m\u001b[0m\u001b[0m\n",
      "\u001b[0;31mIndexError\u001b[0m: index 0 is out of bounds for dimension 0 with size 0"
     ]
    }
   ],
   "source": [
    "ttc.plot_PMF_grid(test_list[:25],npdf,5,5,model,get_ypred_at_RT,kld=True)"
   ]
  },
  {
   "cell_type": "code",
   "execution_count": 461,
   "metadata": {},
   "outputs": [
    {
     "ename": "NameError",
     "evalue": "name 'rt1' is not defined",
     "output_type": "error",
     "traceback": [
      "\u001b[0;31m---------------------------------------------------------------------------\u001b[0m",
      "\u001b[0;31mNameError\u001b[0m                                 Traceback (most recent call last)",
      "\u001b[0;32m<ipython-input-461-21238a491df6>\u001b[0m in \u001b[0;36m<module>\u001b[0;34m\u001b[0m\n\u001b[0;32m----> 1\u001b[0;31m \u001b[0mttc\u001b[0m\u001b[0;34m.\u001b[0m\u001b[0mplot_param_quantiles\u001b[0m\u001b[0;34m(\u001b[0m\u001b[0mklds\u001b[0m\u001b[0;34m=\u001b[0m\u001b[0mmetrics\u001b[0m\u001b[0;34m,\u001b[0m\u001b[0mtrain_list\u001b[0m\u001b[0;34m=\u001b[0m\u001b[0mtest_list\u001b[0m\u001b[0;34m,\u001b[0m\u001b[0mmodel\u001b[0m\u001b[0;34m=\u001b[0m\u001b[0mmodel\u001b[0m\u001b[0;34m)\u001b[0m\u001b[0;34m\u001b[0m\u001b[0;34m\u001b[0m\u001b[0m\n\u001b[0m",
      "\u001b[0;32m~/projects/CME_approximations/Conditional/tools_conditional.py\u001b[0m in \u001b[0;36mplot_param_quantiles\u001b[0;34m(klds, train_list, model)\u001b[0m\n\u001b[1;32m    132\u001b[0m \u001b[0;32mdef\u001b[0m \u001b[0mplot_param_quantiles\u001b[0m\u001b[0;34m(\u001b[0m\u001b[0mklds\u001b[0m\u001b[0;34m,\u001b[0m\u001b[0mtrain_list\u001b[0m\u001b[0;34m,\u001b[0m\u001b[0mmodel\u001b[0m\u001b[0;34m)\u001b[0m\u001b[0;34m:\u001b[0m\u001b[0;34m\u001b[0m\u001b[0;34m\u001b[0m\u001b[0m\n\u001b[1;32m    133\u001b[0m \u001b[0;34m\u001b[0m\u001b[0m\n\u001b[0;32m--> 134\u001b[0;31m     \u001b[0mparams_segment_1\u001b[0m\u001b[0;34m,\u001b[0m\u001b[0mklds_segment_1\u001b[0m \u001b[0;34m=\u001b[0m \u001b[0mget_parameters_quantile\u001b[0m\u001b[0;34m(\u001b[0m\u001b[0mtrain_list\u001b[0m\u001b[0;34m,\u001b[0m\u001b[0mmodel\u001b[0m\u001b[0;34m,\u001b[0m\u001b[0mklds\u001b[0m\u001b[0;34m,\u001b[0m\u001b[0mquantiles\u001b[0m\u001b[0;34m=\u001b[0m\u001b[0;34m[\u001b[0m\u001b[0;36m0\u001b[0m\u001b[0;34m,\u001b[0m\u001b[0;36m.25\u001b[0m\u001b[0;34m]\u001b[0m\u001b[0;34m)\u001b[0m\u001b[0;34m\u001b[0m\u001b[0;34m\u001b[0m\u001b[0m\n\u001b[0m\u001b[1;32m    135\u001b[0m     \u001b[0mparams_segment_2\u001b[0m\u001b[0;34m,\u001b[0m\u001b[0mklds_segment_2\u001b[0m \u001b[0;34m=\u001b[0m \u001b[0mget_parameters_quantile\u001b[0m\u001b[0;34m(\u001b[0m\u001b[0mtrain_list\u001b[0m\u001b[0;34m,\u001b[0m\u001b[0mmodel\u001b[0m\u001b[0;34m,\u001b[0m\u001b[0mklds\u001b[0m\u001b[0;34m,\u001b[0m\u001b[0mquantiles\u001b[0m\u001b[0;34m=\u001b[0m\u001b[0;34m[\u001b[0m\u001b[0;36m.25\u001b[0m\u001b[0;34m,\u001b[0m\u001b[0;36m.5\u001b[0m\u001b[0;34m]\u001b[0m\u001b[0;34m)\u001b[0m\u001b[0;34m\u001b[0m\u001b[0;34m\u001b[0m\u001b[0m\n\u001b[1;32m    136\u001b[0m     \u001b[0mparams_segment_3\u001b[0m\u001b[0;34m,\u001b[0m\u001b[0mklds_segment_3\u001b[0m \u001b[0;34m=\u001b[0m \u001b[0mget_parameters_quantile\u001b[0m\u001b[0;34m(\u001b[0m\u001b[0mtrain_list\u001b[0m\u001b[0;34m,\u001b[0m\u001b[0mmodel\u001b[0m\u001b[0;34m,\u001b[0m\u001b[0mklds\u001b[0m\u001b[0;34m,\u001b[0m\u001b[0mquantiles\u001b[0m\u001b[0;34m=\u001b[0m\u001b[0;34m[\u001b[0m\u001b[0;36m.5\u001b[0m\u001b[0;34m,\u001b[0m\u001b[0;36m.75\u001b[0m\u001b[0;34m]\u001b[0m\u001b[0;34m)\u001b[0m\u001b[0;34m\u001b[0m\u001b[0;34m\u001b[0m\u001b[0m\n",
      "\u001b[0;32m~/projects/CME_approximations/Conditional/tools_conditional.py\u001b[0m in \u001b[0;36mget_parameters_quantile\u001b[0;34m(train_list, model, klds, quantiles)\u001b[0m\n\u001b[1;32m    117\u001b[0m     \u001b[0;34m'''Returns given percent parameters with the highest klds and klds.'''\u001b[0m\u001b[0;34m\u001b[0m\u001b[0;34m\u001b[0m\u001b[0m\n\u001b[1;32m    118\u001b[0m \u001b[0;34m\u001b[0m\u001b[0m\n\u001b[0;32m--> 119\u001b[0;31m     \u001b[0mparameters\u001b[0m\u001b[0;34m,\u001b[0m\u001b[0my_list\u001b[0m \u001b[0;34m=\u001b[0m \u001b[0mrt1\u001b[0m\u001b[0;34m.\u001b[0m\u001b[0mload_training_data\u001b[0m\u001b[0;34m(\u001b[0m\u001b[0mtrain_list\u001b[0m\u001b[0;34m)\u001b[0m\u001b[0;34m\u001b[0m\u001b[0;34m\u001b[0m\u001b[0m\n\u001b[0m\u001b[1;32m    120\u001b[0m \u001b[0;34m\u001b[0m\u001b[0m\n\u001b[1;32m    121\u001b[0m     \u001b[0mkld_low\u001b[0m \u001b[0;34m=\u001b[0m \u001b[0mnp\u001b[0m\u001b[0;34m.\u001b[0m\u001b[0mquantile\u001b[0m\u001b[0;34m(\u001b[0m\u001b[0mklds\u001b[0m\u001b[0;34m,\u001b[0m\u001b[0mquantiles\u001b[0m\u001b[0;34m[\u001b[0m\u001b[0;36m0\u001b[0m\u001b[0;34m]\u001b[0m\u001b[0;34m)\u001b[0m\u001b[0;34m\u001b[0m\u001b[0;34m\u001b[0m\u001b[0m\n",
      "\u001b[0;31mNameError\u001b[0m: name 'rt1' is not defined"
     ]
    }
   ],
   "source": [
    "ttc.plot_param_quantiles(klds=metrics,train_list=test_list,model=model)"
   ]
  },
  {
   "cell_type": "code",
   "execution_count": null,
   "metadata": {},
   "outputs": [],
   "source": []
  }
 ],
 "metadata": {
  "kernelspec": {
   "display_name": "Python 3",
   "language": "python",
   "name": "python3"
  },
  "language_info": {
   "codemirror_mode": {
    "name": "ipython",
    "version": 3
   },
   "file_extension": ".py",
   "mimetype": "text/x-python",
   "name": "python",
   "nbconvert_exporter": "python",
   "pygments_lexer": "ipython3",
   "version": "3.9.1"
  }
 },
 "nbformat": 4,
 "nbformat_minor": 4
}
