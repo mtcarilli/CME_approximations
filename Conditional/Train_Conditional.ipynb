{
 "cells": [
  {
   "cell_type": "markdown",
   "metadata": {},
   "source": [
    "# Train on Conditional PMFs P(m|n)\n",
    "\n",
    "\n",
    "First, load in modules."
   ]
  },
  {
   "cell_type": "code",
   "execution_count": 12,
   "metadata": {},
   "outputs": [],
   "source": [
    "import numpy as np\n",
    "import time\n",
    "from scipy import stats\n",
    "\n",
    "\n",
    "import torch\n",
    "import train_conditional as trc\n",
    "import tools_conditional as ttc"
   ]
  },
  {
   "cell_type": "markdown",
   "metadata": {},
   "source": [
    "Next, load in data. Data for conditional PMF training is stored in : \n",
    "\n",
    "1. '/home/mcarilli/CME/conditional_training_data'\n",
    "\n",
    "\n",
    "'Parameter' vectors are stored as {$\\textrm{log}_{10}(b), \\textrm{log}_{10}(\\beta),\\textrm{log}_{10}(\\gamma),n$},\n",
    "where $n$ is the nascent RNA count at which to calculate the conditional distribution P(m|n)."
   ]
  },
  {
   "cell_type": "code",
   "execution_count": 13,
   "metadata": {},
   "outputs": [],
   "source": [
    "path = '/home/mcarilli/CME/conditional_training_data/'"
   ]
  },
  {
   "cell_type": "code",
   "execution_count": 14,
   "metadata": {},
   "outputs": [],
   "source": [
    "train_list,test_list = trc.get_file_paths(set_size = 256,\n",
    "                                number_of_training_files=2,\n",
    "                                 number_of_testing_files=1,total_files=5,file_path=path)"
   ]
  },
  {
   "cell_type": "markdown",
   "metadata": {},
   "source": [
    "Calculating ypred at runtime! "
   ]
  },
  {
   "cell_type": "code",
   "execution_count": 15,
   "metadata": {},
   "outputs": [],
   "source": [
    "npdf = 10\n",
    "\n",
    "def get_NORM(npdf,quantiles='lin'):\n",
    "    if quantiles == 'lin':\n",
    "        q = np.linspace(0,1,npdf+2)[1:-1]\n",
    "        NORM = stats.norm.ppf(q)\n",
    "        NORM = torch.tensor(NORM)\n",
    "        return NORM\n",
    "    if quantiles == 'cheb':\n",
    "        q = np.linspace(0,1,npdf+2)[1:-1]\n",
    "        NORM = stats.norm.ppf(q)\n",
    "        NORM = torch.tensor(NORM)\n",
    "        return NORM\n",
    "\n",
    "def generate_grid(npdf,VAR,MU):\n",
    "    logstd = torch.sqrt(np.log((VAR/MU**2)+1))\n",
    "    logmean = torch.log(MU**2/np.sqrt(VAR+MU**2))\n",
    "    translin = torch.exp(logmean+logstd*NORM)\n",
    "    return(translin)\n",
    "\n",
    "\n",
    "def get_ypred_at_RT(p,w,hyp,npdf=npdf):\n",
    "    '''Given a parameter vector (tensor) and weights (tensor), and hyperparameter,\n",
    "    calculates ypred (Y) at runtime.'''\n",
    "    \n",
    "    n = p[3]\n",
    "    p_vec = 10**p[:-1]\n",
    "    \n",
    "    # mean, variance, standard deviation of exact (2D) solution\n",
    "    MU, VAR, STD, xmax = trc.get_moments(p_vec)\n",
    "    \n",
    "    # unpack mean, variance, STD for nascent and mature RNA \n",
    "    MU_n,MU_m,VAR_n,VAR_m,STD_n,STD_m,xmax_n,xmax_m = MU[0],MU[1],VAR[0],VAR[1],STD[0],STD[1],xmax[0],xmax[1]\n",
    "\n",
    "    tau = 2. # correlation between lognormal of nascent and lognormal of mature\n",
    "    \n",
    "    # mean and variance for mature conditionals, mc, P(m|n), which are lognormally distributed \n",
    "    # should I exponentiate these? \n",
    "    MU_mc = MU_m + tau * (STD_m/STD_n) * ( torch.log(n) - MU_n) \n",
    "    VAR_mc = STD_m**2 * (1 - tau**2 )\n",
    "    \n",
    "    # generate the grid based on the moments of the conditional lognormals\n",
    "    grid = generate_grid(npdf,VAR_mc,MU_mc)\n",
    "    \n",
    "    s = torch.zeros(npdf)\n",
    "    s[0] = grid[0]\n",
    "    s[1:] = torch.diff(grid)\n",
    "    \n",
    "    s *= hyp\n",
    "    \n",
    "    r = (grid/s)**2 \n",
    "    p = 1/(1+s**2/grid)\n",
    "    xgrid = torch.arange(xmax_m+1)\n",
    "    Y = torch.zeros(xmax_m+1)\n",
    "    GAMMALN_XGRID = lnfactorial[1:len(xgrid)+1]\n",
    "\n",
    "    for i in range(npdf):\n",
    "        l = torch.special.gammaln(xgrid+r[i]) - GAMMALN_XGRID - torch.special.gammaln(r[i]) + xgrid*torch.log(1-p[i]) + r[i]*torch.log(p[i])\n",
    "    \n",
    "        Y += w[i]*torch.exp(l)\n",
    "    return Y\n"
   ]
  },
  {
   "cell_type": "markdown",
   "metadata": {},
   "source": [
    "Define NORM quantiles and lnfactorial."
   ]
  },
  {
   "cell_type": "code",
   "execution_count": 16,
   "metadata": {},
   "outputs": [],
   "source": [
    "NORM = get_NORM(npdf)\n",
    "\n",
    "# precalculate lngammas\n",
    "lnfactorial = torch.special.gammaln(torch.arange(1003))"
   ]
  },
  {
   "cell_type": "markdown",
   "metadata": {},
   "source": [
    "For cleaner training, set up model configurations and training configurations to pass to train. \n",
    "\n",
    "Model is 2 hidden layers, with user-defined dimensions.\n",
    "\n",
    "Input dimension is 4 ('param vector' and n value), and output is npdf."
   ]
  },
  {
   "cell_type": "code",
   "execution_count": 17,
   "metadata": {},
   "outputs": [],
   "source": [
    "model_config = {\n",
    "    'npdf' : 10,\n",
    "    'h1_dim' : 256,\n",
    "    'h2_dim' : 128,\n",
    "    'norm_type' : 'softmax',\n",
    "}\n",
    "\n",
    "train_config = {\n",
    "    'num_epochs' : 20,\n",
    "    'lr' : 1e-3,\n",
    "    'batchsize' : 1,\n",
    "    'metric' : 'kld',\n",
    "}"
   ]
  },
  {
   "cell_type": "markdown",
   "metadata": {},
   "source": [
    "norm_type options:\n",
    "    1. 'softmax'\n",
    "    2. 'normalize' (applies sigmoid so all are positive, then normalizes)\n",
    "    3. None (takes absolute value of output weights)\n",
    "   \n",
    "metric options:\n",
    "    1. 'kld'\n",
    "    2. 'kld_normalized'\n",
    "    3. 'totalse'\n",
    "    4. 'mse'\n",
    "    5. 'maxabsdev'\n",
    "    6. 'maxabsdevlog'\n",
    "    7. 'mselog'\n",
    "    \n",
    "\n",
    "## And Train"
   ]
  },
  {
   "cell_type": "code",
   "execution_count": 18,
   "metadata": {},
   "outputs": [
    {
     "name": "stdout",
     "output_type": "stream",
     "text": [
      "Epoch Number: 0\n",
      "Epoch Number: 1\n",
      "Epoch Number: 2\n",
      "Epoch Number: 3\n"
     ]
    },
    {
     "name": "stderr",
     "output_type": "stream",
     "text": [
      "/home/mcarilli/anaconda3/lib/python3.8/site-packages/torch/nn/functional.py:1806: UserWarning: nn.functional.sigmoid is deprecated. Use torch.sigmoid instead.\n",
      "  warnings.warn(\"nn.functional.sigmoid is deprecated. Use torch.sigmoid instead.\")\n",
      "<ipython-input-15-5f52931e7405>:16: RuntimeWarning: invalid value encountered in log\n",
      "  logstd = torch.sqrt(np.log((VAR/MU**2)+1))\n",
      "<ipython-input-15-5f52931e7405>:17: RuntimeWarning: invalid value encountered in sqrt\n",
      "  logmean = torch.log(MU**2/np.sqrt(VAR+MU**2))\n"
     ]
    },
    {
     "name": "stdout",
     "output_type": "stream",
     "text": [
      "Epoch Number: 4\n",
      "Epoch Number: 5\n",
      "Epoch Number: 6\n",
      "Epoch Number: 7\n",
      "Epoch Number: 8\n",
      "Epoch Number: 9\n",
      "Epoch Number: 10\n",
      "Epoch Number: 11\n",
      "Epoch Number: 12\n",
      "Epoch Number: 13\n",
      "Epoch Number: 14\n",
      "Epoch Number: 15\n",
      "Epoch Number: 16\n",
      "Epoch Number: 17\n",
      "Epoch Number: 18\n",
      "Epoch Number: 19\n",
      "1.2105281352996826\n"
     ]
    }
   ],
   "source": [
    "t1 = time.time()\n",
    "e,t,model = trc.train(train_list[200:210],test_list[0:10],model_config,train_config,get_ypred_at_RT)\n",
    "t2 = time.time()\n",
    "\n",
    "print(t2-t1)"
   ]
  },
  {
   "cell_type": "markdown",
   "metadata": {},
   "source": [
    "-----\n",
    "\n",
    "## Validation and Plotting"
   ]
  },
  {
   "cell_type": "code",
   "execution_count": 20,
   "metadata": {},
   "outputs": [
    {
     "data": {
      "image/png": "[encoded data removed]",
      "text/plain": [
       "<Figure size 648x432 with 1 Axes>"
      ]
     },
     "metadata": {
      "needs_background": "light"
     },
     "output_type": "display_data"
    }
   ],
   "source": [
    "ttc.plot_training(e,t,metric='kld')"
   ]
  },
  {
   "cell_type": "code",
   "execution_count": 28,
   "metadata": {},
   "outputs": [
    {
     "ename": "NameError",
     "evalue": "name 'metric' is not defined",
     "output_type": "error",
     "traceback": [
      "\u001b[0;31m---------------------------------------------------------------------------\u001b[0m",
      "\u001b[0;31mNameError\u001b[0m                                 Traceback (most recent call last)",
      "\u001b[0;32m<ipython-input-28-2d9e2c1759f0>\u001b[0m in \u001b[0;36m<module>\u001b[0;34m\u001b[0m\n\u001b[0;32m----> 1\u001b[0;31m \u001b[0mmetrics\u001b[0m\u001b[0;34m,\u001b[0m\u001b[0mmetric_mean\u001b[0m \u001b[0;34m=\u001b[0m \u001b[0mtrc\u001b[0m\u001b[0;34m.\u001b[0m\u001b[0mcalculate_test_metrics\u001b[0m\u001b[0;34m(\u001b[0m\u001b[0mtest_list\u001b[0m\u001b[0;34m,\u001b[0m\u001b[0mmodel\u001b[0m\u001b[0;34m,\u001b[0m\u001b[0mget_ypred_at_RT\u001b[0m\u001b[0;34m,\u001b[0m\u001b[0mmetric\u001b[0m\u001b[0;34m)\u001b[0m\u001b[0;34m\u001b[0m\u001b[0;34m\u001b[0m\u001b[0m\n\u001b[0m",
      "\u001b[0;31mNameError\u001b[0m: name 'metric' is not defined"
     ]
    }
   ],
   "source": [
    "metrics,metric_mean = trc.calculate_test_metrics(test_list,model,get_ypred_at_RT,metric)"
   ]
  },
  {
   "cell_type": "code",
   "execution_count": 29,
   "metadata": {},
   "outputs": [
    {
     "ename": "NameError",
     "evalue": "name 'metrics' is not defined",
     "output_type": "error",
     "traceback": [
      "\u001b[0;31m---------------------------------------------------------------------------\u001b[0m",
      "\u001b[0;31mNameError\u001b[0m                                 Traceback (most recent call last)",
      "\u001b[0;32m<ipython-input-29-2eb2c54c999b>\u001b[0m in \u001b[0;36m<module>\u001b[0;34m\u001b[0m\n\u001b[0;32m----> 1\u001b[0;31m \u001b[0mttc\u001b[0m\u001b[0;34m.\u001b[0m\u001b[0mplot_CDF\u001b[0m\u001b[0;34m(\u001b[0m\u001b[0mmetrics\u001b[0m\u001b[0;34m)\u001b[0m\u001b[0;34m\u001b[0m\u001b[0;34m\u001b[0m\u001b[0m\n\u001b[0m",
      "\u001b[0;31mNameError\u001b[0m: name 'metrics' is not defined"
     ]
    }
   ],
   "source": [
    "ttc.plot_CDF(metrics)"
   ]
  },
  {
   "cell_type": "code",
   "execution_count": 9,
   "metadata": {},
   "outputs": [
    {
     "ename": "NameError",
     "evalue": "name 'ttc' is not defined",
     "output_type": "error",
     "traceback": [
      "\u001b[0;31m---------------------------------------------------------------------------\u001b[0m",
      "\u001b[0;31mNameError\u001b[0m                                 Traceback (most recent call last)",
      "\u001b[0;32m<ipython-input-9-d28609224ee1>\u001b[0m in \u001b[0;36m<module>\u001b[0;34m\u001b[0m\n\u001b[0;32m----> 1\u001b[0;31m \u001b[0mttc\u001b[0m\u001b[0;34m.\u001b[0m\u001b[0mplot_histogram\u001b[0m\u001b[0;34m(\u001b[0m\u001b[0marray\u001b[0m\u001b[0;34m,\u001b[0m\u001b[0mbins\u001b[0m\u001b[0;34m,\u001b[0m\u001b[0mmetric\u001b[0m\u001b[0;34m=\u001b[0m\u001b[0;34m'kld'\u001b[0m\u001b[0;34m)\u001b[0m\u001b[0;34m\u001b[0m\u001b[0;34m\u001b[0m\u001b[0m\n\u001b[0m",
      "\u001b[0;31mNameError\u001b[0m: name 'ttc' is not defined"
     ]
    }
   ],
   "source": [
    "ttc.plot_histogram(array,bins,metric='kld')"
   ]
  },
  {
   "cell_type": "code",
   "execution_count": 31,
   "metadata": {},
   "outputs": [
    {
     "ename": "NameError",
     "evalue": "name 'data_list' is not defined",
     "output_type": "error",
     "traceback": [
      "\u001b[0;31m---------------------------------------------------------------------------\u001b[0m",
      "\u001b[0;31mNameError\u001b[0m                                 Traceback (most recent call last)",
      "\u001b[0;32m<ipython-input-31-c51928f75b4e>\u001b[0m in \u001b[0;36m<module>\u001b[0;34m\u001b[0m\n\u001b[0;32m----> 1\u001b[0;31m \u001b[0mttc\u001b[0m\u001b[0;34m.\u001b[0m\u001b[0mplot_PMF_grid\u001b[0m\u001b[0;34m(\u001b[0m\u001b[0mdata_list\u001b[0m\u001b[0;34m,\u001b[0m\u001b[0mnpdf\u001b[0m\u001b[0;34m,\u001b[0m\u001b[0mnrows\u001b[0m\u001b[0;34m,\u001b[0m\u001b[0mncols\u001b[0m\u001b[0;34m,\u001b[0m\u001b[0mmodel\u001b[0m\u001b[0;34m,\u001b[0m\u001b[0mget_ypred_at_RT\u001b[0m\u001b[0;34m,\u001b[0m\u001b[0mkld\u001b[0m\u001b[0;34m=\u001b[0m\u001b[0;32mTrue\u001b[0m\u001b[0;34m)\u001b[0m\u001b[0;34m\u001b[0m\u001b[0;34m\u001b[0m\u001b[0m\n\u001b[0m",
      "\u001b[0;31mNameError\u001b[0m: name 'data_list' is not defined"
     ]
    }
   ],
   "source": [
    "ttc.plot_PMF_grid(data_list,npdf,nrows,ncols,model,get_ypred_at_RT,kld=True)"
   ]
  },
  {
   "cell_type": "code",
   "execution_count": 32,
   "metadata": {},
   "outputs": [
    {
     "ename": "NameError",
     "evalue": "name 'metrics' is not defined",
     "output_type": "error",
     "traceback": [
      "\u001b[0;31m---------------------------------------------------------------------------\u001b[0m",
      "\u001b[0;31mNameError\u001b[0m                                 Traceback (most recent call last)",
      "\u001b[0;32m<ipython-input-32-21238a491df6>\u001b[0m in \u001b[0;36m<module>\u001b[0;34m\u001b[0m\n\u001b[0;32m----> 1\u001b[0;31m \u001b[0mttc\u001b[0m\u001b[0;34m.\u001b[0m\u001b[0mplot_param_quantiles\u001b[0m\u001b[0;34m(\u001b[0m\u001b[0mklds\u001b[0m\u001b[0;34m=\u001b[0m\u001b[0mmetrics\u001b[0m\u001b[0;34m,\u001b[0m\u001b[0mtrain_list\u001b[0m\u001b[0;34m=\u001b[0m\u001b[0mtest_list\u001b[0m\u001b[0;34m,\u001b[0m\u001b[0mmodel\u001b[0m\u001b[0;34m=\u001b[0m\u001b[0mmodel\u001b[0m\u001b[0;34m)\u001b[0m\u001b[0;34m\u001b[0m\u001b[0;34m\u001b[0m\u001b[0m\n\u001b[0m",
      "\u001b[0;31mNameError\u001b[0m: name 'metrics' is not defined"
     ]
    }
   ],
   "source": [
    "ttc.plot_param_quantiles(klds=metrics,train_list=test_list,model=model)"
   ]
  },
  {
   "cell_type": "code",
   "execution_count": null,
   "metadata": {},
   "outputs": [],
   "source": []
  }
 ],
 "metadata": {
  "kernelspec": {
   "display_name": "Python 3",
   "language": "python",
   "name": "python3"
  },
  "language_info": {
   "codemirror_mode": {
    "name": "ipython",
    "version": 3
   },
   "file_extension": ".py",
   "mimetype": "text/x-python",
   "name": "python",
   "nbconvert_exporter": "python",
   "pygments_lexer": "ipython3",
   "version": "3.8.3"
  }
 },
 "nbformat": 4,
 "nbformat_minor": 4
}
