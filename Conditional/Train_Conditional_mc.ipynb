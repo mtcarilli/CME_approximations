{
 "cells": [
  {
   "cell_type": "markdown",
   "metadata": {},
   "source": [
    "# Train on Conditional PMFs P(m|n)\n",
    "\n",
    "\n",
    "First, load in modules."
   ]
  },
  {
   "cell_type": "code",
   "execution_count": 11,
   "metadata": {},
   "outputs": [],
   "source": [
    "import numpy as np\n",
    "import time\n",
    "from scipy import stats\n",
    "\n",
    "\n",
    "import torch\n",
    "import train_conditional as trc\n",
    "import tools_conditional as ttc"
   ]
  },
  {
   "cell_type": "markdown",
   "metadata": {},
   "source": [
    "Next, load in data. Data for conditional PMF training is stored in : \n",
    "\n",
    "1. '/home/mcarilli/CME/conditional_training_data'\n",
    "\n",
    "\n",
    "'Parameter' vectors are stored as {$\\textrm{log}_{10}(b), \\textrm{log}_{10}(\\beta),\\textrm{log}_{10}(\\gamma),n$},\n",
    "where $n$ is the nascent RNA count at which to calculate the conditional distribution P(m|n)."
   ]
  },
  {
   "cell_type": "code",
   "execution_count": 12,
   "metadata": {},
   "outputs": [],
   "source": [
    "path = '/home/mcarilli/CME/conditional_training_data/'"
   ]
  },
  {
   "cell_type": "code",
   "execution_count": 13,
   "metadata": {},
   "outputs": [],
   "source": [
    "train_list,test_list = trc.get_file_paths(set_size = 256,\n",
    "                                number_of_training_files=2,\n",
    "                                 number_of_testing_files=1,total_files=5,file_path=path)"
   ]
  },
  {
   "cell_type": "markdown",
   "metadata": {},
   "source": [
    "Calculating ypred at runtime! "
   ]
  },
  {
   "cell_type": "code",
   "execution_count": 70,
   "metadata": {},
   "outputs": [],
   "source": [
    "npdf = 10\n",
    "\n",
    "def get_NORM(npdf,quantiles='lin'):\n",
    "    if quantiles == 'lin':\n",
    "        q = np.linspace(0,1,npdf+2)[1:-1]\n",
    "        NORM = stats.norm.ppf(q)\n",
    "        NORM = torch.tensor(NORM)\n",
    "        return NORM\n",
    "    if quantiles == 'cheb':\n",
    "        n = np.arange(npdf)\n",
    "        q = np.flip((np.cos((2*(n+1)-1)/(2*npdf)*np.pi)+1)/2)\n",
    "\n",
    "        NORM = stats.norm.ppf(q)\n",
    "        NORM = torch.tensor(NORM)\n",
    "        return NORM\n",
    "\n",
    "def generate_grid(npdf,VAR,MU,COV,m):\n",
    "    logvar = torch.log((VAR/MU**2)+1)\n",
    "    logstd = torch.sqrt(logvar)\n",
    "    logmean = torch.log(MU**2/torch.sqrt(VAR+MU**2))\n",
    "\n",
    "    logcov = torch.log(COV * torch.exp(-(logmean.sum()+logvar.sum()/2)) +1 ) \n",
    "    logcorr = logcov/torch.sqrt(logvar.prod())\n",
    "#         print(type(m))\n",
    "    logmean_cond = logmean[1] + logcorr * logstd[1]/logstd[0] * (torch.log(m+1) - logmean[0])\n",
    "    logstd_cond = logstd[1] * torch.sqrt(1-logcorr**2)   \n",
    "\n",
    "    translin = torch.exp(logmean_cond+logstd_cond*NORM)\n",
    "    return translin\n",
    "\n",
    "#     logstd = torch.sqrt(np.log((VAR/MU**2)+1))\n",
    "#     logmean = torch.log(MU**2/np.sqrt(VAR+MU**2))\n",
    "#     translin = torch.exp(logmean+logstd*NORM)\n",
    "#     return(translin)\n",
    "\n",
    "\n",
    "def get_ypred_at_RT(p,w,hyp,npdf=npdf,log=False):\n",
    "    '''Given a parameter vector (tensor) and weights (tensor), and hyperparameter,\n",
    "    calculates ypred (Y) at runtime.'''\n",
    "\n",
    "    if log:\n",
    "        n = torch.exp(p[3])-1\n",
    "    else:\n",
    "        n = p[3]\n",
    "        \n",
    "    p_vec = 10**p[:-1]\n",
    "    \n",
    "    # mean, variance, standard deviation of exact (2D) solution\n",
    "    MU, VAR, STD, xmax = trc.get_moments(p_vec)\n",
    "    \n",
    "    COV = p_vec[0]**2/(p_vec[1] + p_vec[2])\n",
    "    \n",
    "#     # unpack mean, variance, STD for nascent and mature RNA \n",
    "    xmax_m = xmax[1]\n",
    "\n",
    "    grid = generate_grid(npdf,VAR,MU,COV,n)\n",
    "    print(grid)\n",
    "#     print(grid)\n",
    "    \n",
    "    s = torch.zeros(npdf)\n",
    "#     s[0] = grid[0]\n",
    "    s[:-1] = torch.diff(grid)\n",
    "    s *= hyp\n",
    "    s[-1] = torch.sqrt(grid[-1])\n",
    "    \n",
    "    v = s**2\n",
    "#     if torch.any(v<grid):\n",
    "#         v = torch.maximum(v,grid)\n",
    "    r = grid**2/(v-grid)\n",
    "    p_nb = 1-grid/v\n",
    "    \n",
    "#     r = (grid/s)**2 \n",
    "#     p_nb = 1/(1+s**2/grid)\n",
    "    xgrid = torch.arange(xmax_m+1)\n",
    "    Y = torch.zeros(xmax_m+1)\n",
    "    GAMMALN_XGRID = lnfactorial[1:len(xgrid)+1]\n",
    "    \n",
    "    if torch.isnan(sum(GAMMALN_XGRID)) == True:\n",
    "        print(p_,'GAMMA')\n",
    "\n",
    "    for i in range(npdf):\n",
    "        l = -grid[i] + xgrid * torch.log(grid[i]) - GAMMALN_XGRID\n",
    "        if (p_nb[i] >1e-10):\n",
    "            l += torch.special.gammaln(xgrid+r[i]) - torch.special.gammaln(r[i]) \\\n",
    "                - xgrid*torch.log(r[i] + grid[i]) + grid[i] \\\n",
    "                + r[i]*torch.log(r[i]/(r[i]+grid[i]))\n",
    "        Y += w[i]*torch.exp(l)\n",
    "\n",
    "#     for i in range(npdf):\n",
    "#         l = torch.special.gammaln(xgrid+r[i]) - GAMMALN_XGRID - torch.special.gammaln(r[i]) \\\n",
    "#             + xgrid*torch.log(1-p_nb[i]) + r[i]*torch.log(p_nb[i])\n",
    "    \n",
    "#         Y += w[i]*torch.exp(l)\n",
    "    EPS=1e-50\n",
    "    Y[Y<EPS]=EPS\n",
    "    if torch.isnan(torch.sum(Y)) == True:\n",
    "        print(p_vec,Y)\n",
    "    \n",
    "    return Y\n"
   ]
  },
  {
   "cell_type": "code",
   "execution_count": 71,
   "metadata": {},
   "outputs": [],
   "source": [
    "import matplotlib.pyplot as plt"
   ]
  },
  {
   "cell_type": "code",
   "execution_count": 74,
   "metadata": {},
   "outputs": [
    {
     "name": "stdout",
     "output_type": "stream",
     "text": [
      "tensor([ 15.2132,  21.1516,  26.7462,  32.5888,  39.0610,  46.5951,  55.8490,\n",
      "         68.0489,  86.0480, 119.6364], dtype=torch.float64)\n"
     ]
    },
    {
     "ename": "NameError",
     "evalue": "name 'model' is not defined",
     "output_type": "error",
     "traceback": [
      "\u001b[0;31m---------------------------------------------------------------------------\u001b[0m",
      "\u001b[0;31mNameError\u001b[0m                                 Traceback (most recent call last)",
      "\u001b[0;32m<ipython-input-74-5a80d5a1d32b>\u001b[0m in \u001b[0;36m<module>\u001b[0;34m\u001b[0m\n\u001b[1;32m      5\u001b[0m \u001b[0mj\u001b[0m\u001b[0;34m=\u001b[0m \u001b[0;36m100\u001b[0m\u001b[0;34m\u001b[0m\u001b[0;34m\u001b[0m\u001b[0m\n\u001b[1;32m      6\u001b[0m \u001b[0my_rand\u001b[0m \u001b[0;34m=\u001b[0m \u001b[0mget_ypred_at_RT\u001b[0m\u001b[0;34m(\u001b[0m\u001b[0mtorch\u001b[0m\u001b[0;34m.\u001b[0m\u001b[0mtensor\u001b[0m\u001b[0;34m(\u001b[0m\u001b[0mtrain_list\u001b[0m\u001b[0;34m[\u001b[0m\u001b[0mj\u001b[0m\u001b[0;34m]\u001b[0m\u001b[0;34m[\u001b[0m\u001b[0;36m0\u001b[0m\u001b[0;34m]\u001b[0m\u001b[0;34m)\u001b[0m\u001b[0;34m,\u001b[0m\u001b[0mw_rand\u001b[0m\u001b[0;34m,\u001b[0m\u001b[0mhyp\u001b[0m\u001b[0;34m,\u001b[0m\u001b[0mnpdf\u001b[0m\u001b[0;34m=\u001b[0m\u001b[0mnpdf\u001b[0m\u001b[0;34m)\u001b[0m\u001b[0;34m\u001b[0m\u001b[0;34m\u001b[0m\u001b[0m\n\u001b[0;32m----> 7\u001b[0;31m \u001b[0my_pred\u001b[0m \u001b[0;34m=\u001b[0m \u001b[0mtrc\u001b[0m\u001b[0;34m.\u001b[0m\u001b[0mget_predicted_PMF\u001b[0m\u001b[0;34m(\u001b[0m\u001b[0mp_list\u001b[0m\u001b[0;34m,\u001b[0m\u001b[0;36m0\u001b[0m\u001b[0;34m,\u001b[0m\u001b[0mmodel\u001b[0m\u001b[0;34m,\u001b[0m\u001b[0mget_ypred_at_RT\u001b[0m\u001b[0;34m)\u001b[0m\u001b[0;34m\u001b[0m\u001b[0;34m\u001b[0m\u001b[0m\n\u001b[0m\u001b[1;32m      8\u001b[0m \u001b[0;34m\u001b[0m\u001b[0m\n\u001b[1;32m      9\u001b[0m \u001b[0;34m\u001b[0m\u001b[0m\n",
      "\u001b[0;31mNameError\u001b[0m: name 'model' is not defined"
     ]
    }
   ],
   "source": [
    "w_rand = np.random.rand(npdf)\n",
    "w_rand /= w_rand.sum()\n",
    "\n",
    "hyp = 1.5\n",
    "j= 100\n",
    "y_rand = get_ypred_at_RT(torch.tensor(train_list[j][0]),w_rand,hyp,npdf=npdf)\n",
    "y_pred = trc.get_predicted_PMF(p_list,0,model,get_ypred_at_RT)\n",
    "\n",
    "\n",
    "plt.plot(range(len(y)),y,'m--',label='random weights')\n",
    "plt.plot(train_list[j][1],'k',label='ground truth')\n",
    "plt.legend()"
   ]
  },
  {
   "cell_type": "markdown",
   "metadata": {},
   "source": [
    "Define NORM quantiles and lnfactorial."
   ]
  },
  {
   "cell_type": "code",
   "execution_count": 75,
   "metadata": {},
   "outputs": [],
   "source": [
    "NORM = get_NORM(npdf,quantiles='lin')\n",
    "\n",
    "# precalculate lngammas\n",
    "lnfactorial = torch.special.gammaln(torch.arange(1003))"
   ]
  },
  {
   "cell_type": "markdown",
   "metadata": {},
   "source": [
    "For cleaner training, set up model configurations and training configurations to pass to train. \n",
    "\n",
    "Model is 2 hidden layers, with user-defined dimensions.\n",
    "\n",
    "Input dimension is 4 ('param vector' and n value), and output is npdf."
   ]
  },
  {
   "cell_type": "code",
   "execution_count": 76,
   "metadata": {},
   "outputs": [],
   "source": [
    "model_config = {\n",
    "    'npdf' : 10,\n",
    "    'h1_dim' : 128,\n",
    "    'h2_dim' : 128,\n",
    "    'norm_type' : 'softmax',\n",
    "    'num_training_params': 200, #is this ever actually used? -- yes, in metadata \n",
    "}\n",
    "\n",
    "train_config = {\n",
    "    'num_epochs' : 10,\n",
    "    'lr' : 1e-6,\n",
    "    'batchsize' : 10,\n",
    "    'metric' : 'kld',\n",
    "}"
   ]
  },
  {
   "cell_type": "markdown",
   "metadata": {},
   "source": [
    "norm_type options:\n",
    "    1. 'softmax'\n",
    "    2. 'normalize' (applies sigmoid so all are positive, then normalizes)\n",
    "    3. None (takes absolute value of output weights)\n",
    "   \n",
    "metric options:\n",
    "    1. 'kld'\n",
    "    2. 'kld_normalized'\n",
    "    3. 'totalse'\n",
    "    4. 'mse'\n",
    "    5. 'maxabsdev'\n",
    "    6. 'maxabsdevlog'\n",
    "    7. 'mselog'\n",
    "    \n",
    "\n",
    "## And Train"
   ]
  },
  {
   "cell_type": "code",
   "execution_count": 77,
   "metadata": {},
   "outputs": [
    {
     "data": {
      "text/plain": [
       "<module 'train_conditional' from '/home/mcarilli/CME/git/CME_approximations/Conditional/train_conditional.py'>"
      ]
     },
     "execution_count": 77,
     "metadata": {},
     "output_type": "execute_result"
    }
   ],
   "source": [
    "import importlib\n",
    "importlib.reload(trc)"
   ]
  },
  {
   "cell_type": "code",
   "execution_count": 78,
   "metadata": {},
   "outputs": [],
   "source": [
    "ps,ys = trc.unpack_data(train_list)"
   ]
  },
  {
   "cell_type": "code",
   "execution_count": 79,
   "metadata": {},
   "outputs": [
    {
     "data": {
      "text/plain": [
       "tensor([ 0.2656, -0.7701,  0.3630,  0.0000])"
      ]
     },
     "execution_count": 79,
     "metadata": {},
     "output_type": "execute_result"
    }
   ],
   "source": [
    "ps[0]"
   ]
  },
  {
   "cell_type": "code",
   "execution_count": 80,
   "metadata": {},
   "outputs": [
    {
     "name": "stdout",
     "output_type": "stream",
     "text": [
      "Epoch Number: 0\n",
      "tensor([ 75.1222, 104.4458, 132.0719, 160.9223, 192.8820, 230.0847, 275.7802,\n",
      "        336.0230, 424.9017, 590.7602], dtype=torch.float64)\n",
      "tensor([ 79.9733, 111.1905, 140.6006, 171.3140, 205.3375, 244.9426, 293.5889,\n",
      "        357.7219, 452.3400, 628.9089], dtype=torch.float64)\n",
      "tensor([ 79.4790, 110.5033, 139.7316, 170.2553, 204.0685, 243.4288, 291.7745,\n",
      "        355.5111, 449.5445, 625.0221], dtype=torch.float64)\n",
      "tensor([0.0158, 0.0260, 0.0370, 0.0497, 0.0653, 0.0851, 0.1117, 0.1503, 0.2139,\n",
      "        0.3509], dtype=torch.float64)\n",
      "tensor([ 73.2388, 101.8272, 128.7607, 156.8878, 188.0462, 224.3161, 268.8660,\n",
      "        327.5984, 414.2488, 575.9490], dtype=torch.float64)\n",
      "tensor([0.1039, 0.1517, 0.1986, 0.2492, 0.3069, 0.3758, 0.4627, 0.5806, 0.7602,\n",
      "        1.1100], dtype=torch.float64)\n",
      "tensor([ 7.8314,  8.8199,  9.5990, 10.3080, 11.0041, 11.7268, 12.5186, 13.4433,\n",
      "        14.6308, 16.4775], dtype=torch.float64)\n",
      "tensor([0.3353, 0.4896, 0.6410, 0.8043, 0.9903, 1.2127, 1.4932, 1.8736, 2.4532,\n",
      "        3.5820], dtype=torch.float64)\n",
      "tensor([0.2941, 0.4294, 0.5623, 0.7055, 0.8687, 1.0638, 1.3098, 1.6435, 2.1519,\n",
      "        3.1421], dtype=torch.float64)\n",
      "tensor([0.0902, 0.1318, 0.1725, 0.2165, 0.2666, 0.3264, 0.4019, 0.5043, 0.6603,\n",
      "        0.9641], dtype=torch.float64)\n",
      "tensor([ 7.5181,  8.4671,  9.2150,  9.8956, 10.5638, 11.2577, 12.0178, 12.9055,\n",
      "        14.0455, 15.8183], dtype=torch.float64)\n",
      "tensor([ 71.5777,  99.5178, 125.8404, 153.3296, 183.7813, 219.2287, 262.7682,\n",
      "        320.1685, 404.8536, 562.8865], dtype=torch.float64)\n",
      "tensor([ 19.6657,  27.3421,  34.5742,  42.1267,  50.4932,  60.2322,  72.1945,\n",
      "         87.9650, 111.2320, 154.6509], dtype=torch.float64)\n",
      "tensor([ 41.1480,  57.2099,  72.3421,  88.1448, 105.6507, 126.0283, 151.0580,\n",
      "        184.0558, 232.7389, 323.5875], dtype=torch.float64)\n",
      "tensor([ 48.4626,  67.3798,  85.2019, 103.8138, 124.4315, 148.4316, 177.9106,\n",
      "        216.7743, 274.1115, 381.1096], dtype=torch.float64)\n",
      "tensor([  8.9096,  13.6476,  18.4900,  23.8763,  30.1835,  37.9213,  47.9387,\n",
      "         61.9037,  83.8683, 128.4678], dtype=torch.float64)\n",
      "tensor([ 91.1147, 126.6809, 160.1883, 195.1806, 233.9440, 279.0667, 334.4902,\n",
      "        407.5578, 515.3576, 716.5251], dtype=torch.float64)\n",
      "tensor([ 93.6076, 130.1469, 164.5709, 200.5206, 240.3446, 286.7018, 343.6416,\n",
      "        418.7083, 529.4575, 736.1288], dtype=torch.float64)\n",
      "tensor([ 18.3231,  25.4754,  32.2137,  39.2507,  47.0460,  56.1201,  67.2657,\n",
      "         81.9595, 103.6380, 144.0926], dtype=torch.float64)\n",
      "tensor([ 92.1631, 128.1385, 162.0314, 197.4263, 236.6358, 282.2776, 338.3388,\n",
      "        412.2471, 521.2873, 724.7694], dtype=torch.float64)\n",
      "tensor([104.6882, 145.5527, 184.0517, 224.2568, 268.7949, 320.6395, 384.3196,\n",
      "        468.2721, 592.1310, 823.2667], dtype=torch.float64)\n",
      "tensor([105.5797, 146.7922, 185.6190, 226.1665, 271.0839, 323.3700, 387.5923,\n",
      "        472.2598, 597.1734, 830.2774], dtype=torch.float64)\n",
      "tensor([  7.5556,  11.5736,  15.6801,  20.2479,  25.5966,  32.1585,  40.6537,\n",
      "         52.4965,  71.1231, 108.9451], dtype=torch.float64)\n",
      "tensor([106.9878, 148.7501, 188.0947, 229.1830, 274.6995, 327.6830, 392.7618,\n",
      "        478.5586, 605.1382, 841.3512], dtype=torch.float64)\n",
      "tensor([101.7733, 141.5000, 178.9270, 218.0127, 261.3107, 311.7117, 373.6187,\n",
      "        455.2337, 575.6438, 800.3439], dtype=torch.float64)\n",
      "tensor([ 97.7910, 135.9633, 171.9259, 209.4822, 251.0860, 299.5149, 358.9995,\n",
      "        437.4210, 553.1197, 769.0276], dtype=torch.float64)\n",
      "tensor([110.0789, 153.0477, 193.5292, 235.8046, 282.6361, 337.1504, 404.1095,\n",
      "        492.3850, 622.6218, 865.6595], dtype=torch.float64)\n",
      "tensor([ 70.1579,  97.5437, 123.3443, 150.2881, 180.1358, 214.8801, 257.5559,\n",
      "        313.8176, 396.8230, 551.7211], dtype=torch.float64)\n",
      "tensor([109.5708, 152.3413, 192.6359, 234.7162, 281.3316, 335.5942, 402.2443,\n",
      "        490.1124, 619.7481, 861.6640], dtype=torch.float64)\n",
      "tensor([111.0867, 154.4490, 195.3010, 237.9635, 285.2238, 340.2371, 407.8093,\n",
      "        496.8931, 628.3222, 873.5850], dtype=torch.float64)\n",
      "tensor([0.0957, 0.1569, 0.2233, 0.3004, 0.3943, 0.5140, 0.6747, 0.9079, 1.2916,\n",
      "        2.1190], dtype=torch.float64)\n",
      "tensor([ 75.9125, 105.5446, 133.4614, 162.6153, 194.9113, 232.5053, 278.6816,\n",
      "        339.5581, 429.3719, 596.9753], dtype=torch.float64)\n",
      "tensor([ 6.7626, 10.3588, 14.0343, 18.1227, 22.9100, 28.7832, 36.3867, 46.9864,\n",
      "        63.6581, 97.5102], dtype=torch.float64)\n",
      "tensor([15.0695, 16.9716, 18.4707, 19.8350, 21.1743, 22.5651, 24.0887, 25.8680,\n",
      "        28.1530, 31.7064], dtype=torch.float64)\n",
      "tensor([ 8.4436,  9.5093, 10.3493, 11.1138, 11.8642, 12.6434, 13.4972, 14.4941,\n",
      "        15.7744, 17.7655], dtype=torch.float64)\n",
      "tensor([ 36.5298,  50.7891,  64.2229,  78.2521,  93.7932, 111.8838, 134.1043,\n",
      "        163.3986, 206.6179, 287.2702], dtype=torch.float64)\n",
      "tensor([ 77.4648, 107.7028, 136.1904, 165.9405, 198.8968, 237.2596, 284.3801,\n",
      "        346.5014, 438.1517, 609.1823], dtype=torch.float64)\n",
      "tensor([4.3880, 4.9419, 5.3784, 5.7757, 6.1657, 6.5707, 7.0143, 7.5324, 8.1978,\n",
      "        9.2325], dtype=torch.float64)\n",
      "tensor([105.7569, 147.0387, 185.9307, 226.5462, 271.5390, 323.9129, 388.2430,\n",
      "        473.0527, 598.1760, 831.6713], dtype=torch.float64)\n",
      "tensor([ 45.2230,  62.8756,  79.5063,  96.8741, 116.1135, 138.5093, 166.0177,\n",
      "        202.2833, 255.7877, 355.6332], dtype=torch.float64)\n",
      "tensor([18.2865, 20.5946, 22.4138, 24.0693, 25.6946, 27.3822, 29.2312, 31.3903,\n",
      "        34.1631, 38.4751], dtype=torch.float64)\n",
      "tensor([116.2891, 161.6821, 204.4473, 249.1077, 298.5813, 356.1710, 426.9077,\n",
      "        520.1634, 657.7477, 914.4966], dtype=torch.float64)\n",
      "tensor([ 9.6181, 10.8321, 11.7889, 12.6596, 13.5145, 14.4021, 15.3746, 16.5102,\n",
      "        17.9686, 20.2366], dtype=torch.float64)\n",
      "tensor([  9.5061,  14.5613,  19.7279,  25.4748,  32.2043,  40.4601,  51.1482,\n",
      "         66.0482,  89.4832, 137.0687], dtype=torch.float64)\n",
      "tensor([ 64.1043,  89.1271, 112.7014, 137.3205, 164.5927, 196.3390, 235.3326,\n",
      "        286.7397, 362.5829, 504.1156], dtype=torch.float64)\n",
      "tensor([ 5.5913,  8.5646, 11.6035, 14.9837, 18.9419, 23.7978, 30.0844, 38.8482,\n",
      "        52.6322, 80.6211], dtype=torch.float64)\n",
      "tensor([ 90.9033, 126.3870, 159.8166, 194.7277, 233.4012, 278.4191, 333.7140,\n",
      "        406.6121, 514.1617, 714.8625], dtype=torch.float64)\n",
      "tensor([ 78.7308, 109.4630, 138.4162, 168.6525, 202.1474, 241.1372, 289.0278,\n",
      "        352.1643, 445.3125, 619.1382], dtype=torch.float64)\n",
      "tensor([ 91.3255, 126.9740, 160.5589, 195.6321, 234.4852, 279.7123, 335.2640,\n",
      "        408.5006, 516.5498, 718.1828], dtype=torch.float64)\n",
      "tensor([0.0586, 0.0961, 0.1368, 0.1840, 0.2416, 0.3149, 0.4134, 0.5562, 0.7913,\n",
      "        1.2983], dtype=torch.float64)\n",
      "tensor([117.0774, 162.7781, 205.8332, 250.7964, 300.6053, 358.5854, 429.8016,\n",
      "        523.6895, 662.2063, 920.6957], dtype=torch.float64)\n",
      "tensor([ 40.6045,  56.4542,  71.3865,  86.9805, 104.2551, 124.3636, 149.0626,\n",
      "        181.6245, 229.6645, 319.3130], dtype=torch.float64)\n",
      "tensor([ 74.8566, 104.0765, 131.6049, 160.3533, 192.2000, 229.2711, 274.8050,\n",
      "        334.8347, 423.3992, 588.6712], dtype=torch.float64)\n",
      "tensor([116.9203, 162.5597, 205.5570, 250.4598, 300.2019, 358.1042, 429.2249,\n",
      "        522.9868, 661.3178, 919.4602], dtype=torch.float64)\n",
      "tensor([ 6.2071,  6.9905,  7.6080,  8.1700,  8.7216,  9.2945,  9.9221, 10.6550,\n",
      "        11.5961, 13.0598], dtype=torch.float64)\n",
      "tensor([ 71.8577,  99.9071, 126.3327, 153.9294, 184.5003, 220.0863, 263.7961,\n",
      "        321.4210, 406.4374, 565.0885], dtype=torch.float64)\n",
      "tensor([11.2801, 12.7039, 13.8260, 14.8473, 15.8498, 16.8908, 18.0314, 19.3632,\n",
      "        21.0736, 23.7335], dtype=torch.float64)\n",
      "tensor([3.5729, 4.0239, 4.3793, 4.7028, 5.0204, 5.3501, 5.7114, 6.1332, 6.6750,\n",
      "        7.5175], dtype=torch.float64)\n",
      "tensor([ 55.4261,  77.0614,  97.4443, 118.7304, 142.3107, 169.7593, 203.4740,\n",
      "        247.9218, 313.4976, 435.8700], dtype=torch.float64)\n",
      "tensor([ 41.6832,  57.9541,  73.2830,  89.2913, 107.0248, 127.6676, 153.0227,\n",
      "        186.4497, 235.7660, 327.7963], dtype=torch.float64)\n",
      "trial 5\n",
      "parameter Parameter containing:\n",
      "tensor([[nan, nan, nan, nan],\n",
      "        [nan, nan, nan, nan],\n",
      "        [nan, nan, nan, nan],\n",
      "        [nan, nan, nan, nan],\n",
      "        [nan, nan, nan, nan],\n",
      "        [nan, nan, nan, nan],\n",
      "        [nan, nan, nan, nan],\n",
      "        [nan, nan, nan, nan],\n",
      "        [nan, nan, nan, nan],\n",
      "        [nan, nan, nan, nan],\n",
      "        [nan, nan, nan, nan],\n",
      "        [nan, nan, nan, nan],\n",
      "        [nan, nan, nan, nan],\n",
      "        [nan, nan, nan, nan],\n",
      "        [nan, nan, nan, nan],\n",
      "        [nan, nan, nan, nan],\n",
      "        [nan, nan, nan, nan],\n",
      "        [nan, nan, nan, nan],\n",
      "        [nan, nan, nan, nan],\n",
      "        [nan, nan, nan, nan],\n",
      "        [nan, nan, nan, nan],\n",
      "        [nan, nan, nan, nan],\n",
      "        [nan, nan, nan, nan],\n",
      "        [nan, nan, nan, nan],\n",
      "        [nan, nan, nan, nan],\n",
      "        [nan, nan, nan, nan],\n",
      "        [nan, nan, nan, nan],\n",
      "        [nan, nan, nan, nan],\n",
      "        [nan, nan, nan, nan],\n",
      "        [nan, nan, nan, nan],\n",
      "        [nan, nan, nan, nan],\n",
      "        [nan, nan, nan, nan],\n",
      "        [nan, nan, nan, nan],\n",
      "        [nan, nan, nan, nan],\n",
      "        [nan, nan, nan, nan],\n",
      "        [nan, nan, nan, nan],\n",
      "        [nan, nan, nan, nan],\n",
      "        [nan, nan, nan, nan],\n",
      "        [nan, nan, nan, nan],\n",
      "        [nan, nan, nan, nan],\n",
      "        [nan, nan, nan, nan],\n",
      "        [nan, nan, nan, nan],\n",
      "        [nan, nan, nan, nan],\n",
      "        [nan, nan, nan, nan],\n",
      "        [nan, nan, nan, nan],\n",
      "        [nan, nan, nan, nan],\n",
      "        [nan, nan, nan, nan],\n",
      "        [nan, nan, nan, nan],\n",
      "        [nan, nan, nan, nan],\n",
      "        [nan, nan, nan, nan],\n",
      "        [nan, nan, nan, nan],\n",
      "        [nan, nan, nan, nan],\n",
      "        [nan, nan, nan, nan],\n",
      "        [nan, nan, nan, nan],\n",
      "        [nan, nan, nan, nan],\n",
      "        [nan, nan, nan, nan],\n",
      "        [nan, nan, nan, nan],\n",
      "        [nan, nan, nan, nan],\n",
      "        [nan, nan, nan, nan],\n",
      "        [nan, nan, nan, nan],\n",
      "        [nan, nan, nan, nan],\n",
      "        [nan, nan, nan, nan],\n",
      "        [nan, nan, nan, nan],\n",
      "        [nan, nan, nan, nan],\n",
      "        [nan, nan, nan, nan],\n",
      "        [nan, nan, nan, nan],\n",
      "        [nan, nan, nan, nan],\n",
      "        [nan, nan, nan, nan],\n",
      "        [nan, nan, nan, nan],\n",
      "        [nan, nan, nan, nan],\n",
      "        [nan, nan, nan, nan],\n",
      "        [nan, nan, nan, nan],\n",
      "        [nan, nan, nan, nan],\n",
      "        [nan, nan, nan, nan],\n",
      "        [nan, nan, nan, nan],\n",
      "        [nan, nan, nan, nan],\n",
      "        [nan, nan, nan, nan],\n",
      "        [nan, nan, nan, nan],\n",
      "        [nan, nan, nan, nan],\n",
      "        [nan, nan, nan, nan],\n",
      "        [nan, nan, nan, nan],\n",
      "        [nan, nan, nan, nan],\n",
      "        [nan, nan, nan, nan],\n",
      "        [nan, nan, nan, nan],\n",
      "        [nan, nan, nan, nan],\n",
      "        [nan, nan, nan, nan],\n",
      "        [nan, nan, nan, nan],\n",
      "        [nan, nan, nan, nan],\n",
      "        [nan, nan, nan, nan],\n",
      "        [nan, nan, nan, nan],\n",
      "        [nan, nan, nan, nan],\n",
      "        [nan, nan, nan, nan],\n",
      "        [nan, nan, nan, nan],\n",
      "        [nan, nan, nan, nan],\n",
      "        [nan, nan, nan, nan],\n",
      "        [nan, nan, nan, nan],\n",
      "        [nan, nan, nan, nan],\n",
      "        [nan, nan, nan, nan],\n",
      "        [nan, nan, nan, nan],\n",
      "        [nan, nan, nan, nan],\n",
      "        [nan, nan, nan, nan],\n",
      "        [nan, nan, nan, nan],\n",
      "        [nan, nan, nan, nan],\n",
      "        [nan, nan, nan, nan],\n",
      "        [nan, nan, nan, nan],\n",
      "        [nan, nan, nan, nan],\n",
      "        [nan, nan, nan, nan],\n",
      "        [nan, nan, nan, nan],\n",
      "        [nan, nan, nan, nan],\n",
      "        [nan, nan, nan, nan],\n",
      "        [nan, nan, nan, nan],\n",
      "        [nan, nan, nan, nan],\n",
      "        [nan, nan, nan, nan],\n",
      "        [nan, nan, nan, nan],\n",
      "        [nan, nan, nan, nan],\n",
      "        [nan, nan, nan, nan],\n",
      "        [nan, nan, nan, nan],\n",
      "        [nan, nan, nan, nan],\n",
      "        [nan, nan, nan, nan],\n",
      "        [nan, nan, nan, nan],\n",
      "        [nan, nan, nan, nan],\n",
      "        [nan, nan, nan, nan],\n",
      "        [nan, nan, nan, nan],\n",
      "        [nan, nan, nan, nan],\n",
      "        [nan, nan, nan, nan],\n",
      "        [nan, nan, nan, nan],\n",
      "        [nan, nan, nan, nan],\n",
      "        [nan, nan, nan, nan]], requires_grad=True)\n",
      "gradients tensor([[nan, nan, nan, nan],\n",
      "        [nan, nan, nan, nan],\n",
      "        [nan, nan, nan, nan],\n",
      "        [nan, nan, nan, nan],\n",
      "        [nan, nan, nan, nan],\n",
      "        [nan, nan, nan, nan],\n",
      "        [nan, nan, nan, nan],\n",
      "        [nan, nan, nan, nan],\n",
      "        [nan, nan, nan, nan],\n",
      "        [nan, nan, nan, nan],\n",
      "        [nan, nan, nan, nan],\n",
      "        [nan, nan, nan, nan],\n",
      "        [nan, nan, nan, nan],\n",
      "        [nan, nan, nan, nan],\n",
      "        [nan, nan, nan, nan],\n",
      "        [nan, nan, nan, nan],\n",
      "        [nan, nan, nan, nan],\n",
      "        [nan, nan, nan, nan],\n",
      "        [nan, nan, nan, nan],\n",
      "        [nan, nan, nan, nan],\n",
      "        [nan, nan, nan, nan],\n",
      "        [nan, nan, nan, nan],\n",
      "        [nan, nan, nan, nan],\n",
      "        [nan, nan, nan, nan],\n",
      "        [nan, nan, nan, nan],\n",
      "        [nan, nan, nan, nan],\n",
      "        [nan, nan, nan, nan],\n",
      "        [nan, nan, nan, nan],\n",
      "        [nan, nan, nan, nan],\n",
      "        [nan, nan, nan, nan],\n",
      "        [nan, nan, nan, nan],\n",
      "        [nan, nan, nan, nan],\n",
      "        [nan, nan, nan, nan],\n",
      "        [nan, nan, nan, nan],\n",
      "        [nan, nan, nan, nan],\n",
      "        [nan, nan, nan, nan],\n",
      "        [nan, nan, nan, nan],\n",
      "        [nan, nan, nan, nan],\n",
      "        [nan, nan, nan, nan],\n",
      "        [nan, nan, nan, nan],\n",
      "        [nan, nan, nan, nan],\n",
      "        [nan, nan, nan, nan],\n",
      "        [nan, nan, nan, nan],\n",
      "        [nan, nan, nan, nan],\n",
      "        [nan, nan, nan, nan],\n",
      "        [nan, nan, nan, nan],\n",
      "        [nan, nan, nan, nan],\n",
      "        [nan, nan, nan, nan],\n",
      "        [nan, nan, nan, nan],\n",
      "        [nan, nan, nan, nan],\n",
      "        [nan, nan, nan, nan],\n",
      "        [nan, nan, nan, nan],\n",
      "        [nan, nan, nan, nan],\n",
      "        [nan, nan, nan, nan],\n",
      "        [nan, nan, nan, nan],\n",
      "        [nan, nan, nan, nan],\n",
      "        [nan, nan, nan, nan],\n",
      "        [nan, nan, nan, nan],\n",
      "        [nan, nan, nan, nan],\n",
      "        [nan, nan, nan, nan],\n",
      "        [nan, nan, nan, nan],\n",
      "        [nan, nan, nan, nan],\n",
      "        [nan, nan, nan, nan],\n",
      "        [nan, nan, nan, nan],\n",
      "        [nan, nan, nan, nan],\n",
      "        [nan, nan, nan, nan],\n",
      "        [nan, nan, nan, nan],\n",
      "        [nan, nan, nan, nan],\n",
      "        [nan, nan, nan, nan],\n",
      "        [nan, nan, nan, nan],\n",
      "        [nan, nan, nan, nan],\n",
      "        [nan, nan, nan, nan],\n",
      "        [nan, nan, nan, nan],\n",
      "        [nan, nan, nan, nan],\n",
      "        [nan, nan, nan, nan],\n",
      "        [nan, nan, nan, nan],\n",
      "        [nan, nan, nan, nan],\n",
      "        [nan, nan, nan, nan],\n",
      "        [nan, nan, nan, nan],\n",
      "        [nan, nan, nan, nan],\n",
      "        [nan, nan, nan, nan],\n",
      "        [nan, nan, nan, nan],\n",
      "        [nan, nan, nan, nan],\n",
      "        [nan, nan, nan, nan],\n",
      "        [nan, nan, nan, nan],\n",
      "        [nan, nan, nan, nan],\n",
      "        [nan, nan, nan, nan],\n",
      "        [nan, nan, nan, nan],\n",
      "        [nan, nan, nan, nan],\n",
      "        [nan, nan, nan, nan],\n",
      "        [nan, nan, nan, nan],\n",
      "        [nan, nan, nan, nan],\n",
      "        [nan, nan, nan, nan],\n",
      "        [nan, nan, nan, nan],\n",
      "        [nan, nan, nan, nan],\n",
      "        [nan, nan, nan, nan],\n",
      "        [nan, nan, nan, nan],\n",
      "        [nan, nan, nan, nan],\n",
      "        [nan, nan, nan, nan],\n",
      "        [nan, nan, nan, nan],\n",
      "        [nan, nan, nan, nan],\n",
      "        [nan, nan, nan, nan],\n",
      "        [nan, nan, nan, nan],\n",
      "        [nan, nan, nan, nan],\n",
      "        [nan, nan, nan, nan],\n",
      "        [nan, nan, nan, nan],\n",
      "        [nan, nan, nan, nan],\n",
      "        [nan, nan, nan, nan],\n",
      "        [nan, nan, nan, nan],\n",
      "        [nan, nan, nan, nan],\n",
      "        [nan, nan, nan, nan],\n",
      "        [nan, nan, nan, nan],\n",
      "        [nan, nan, nan, nan],\n",
      "        [nan, nan, nan, nan],\n",
      "        [nan, nan, nan, nan],\n",
      "        [nan, nan, nan, nan],\n",
      "        [nan, nan, nan, nan],\n",
      "        [nan, nan, nan, nan],\n",
      "        [nan, nan, nan, nan],\n",
      "        [nan, nan, nan, nan],\n",
      "        [nan, nan, nan, nan],\n",
      "        [nan, nan, nan, nan],\n",
      "        [nan, nan, nan, nan],\n",
      "        [nan, nan, nan, nan],\n",
      "        [nan, nan, nan, nan],\n",
      "        [nan, nan, nan, nan],\n",
      "        [nan, nan, nan, nan],\n",
      "        [nan, nan, nan, nan]])\n",
      "trial 5\n",
      "parameter Parameter containing:\n",
      "tensor([nan, nan, nan, nan, nan, nan, nan, nan, nan, nan, nan, nan, nan, nan, nan, nan, nan, nan, nan, nan, nan, nan, nan, nan,\n",
      "        nan, nan, nan, nan, nan, nan, nan, nan, nan, nan, nan, nan, nan, nan, nan, nan, nan, nan, nan, nan, nan, nan, nan, nan,\n",
      "        nan, nan, nan, nan, nan, nan, nan, nan, nan, nan, nan, nan, nan, nan, nan, nan, nan, nan, nan, nan, nan, nan, nan, nan,\n",
      "        nan, nan, nan, nan, nan, nan, nan, nan, nan, nan, nan, nan, nan, nan, nan, nan, nan, nan, nan, nan, nan, nan, nan, nan,\n",
      "        nan, nan, nan, nan, nan, nan, nan, nan, nan, nan, nan, nan, nan, nan, nan, nan, nan, nan, nan, nan, nan, nan, nan, nan,\n",
      "        nan, nan, nan, nan, nan, nan, nan, nan], requires_grad=True)\n",
      "gradients tensor([nan, nan, nan, nan, nan, nan, nan, nan, nan, nan, nan, nan, nan, nan, nan, nan, nan, nan, nan, nan, nan, nan, nan, nan,\n",
      "        nan, nan, nan, nan, nan, nan, nan, nan, nan, nan, nan, nan, nan, nan, nan, nan, nan, nan, nan, nan, nan, nan, nan, nan,\n",
      "        nan, nan, nan, nan, nan, nan, nan, nan, nan, nan, nan, nan, nan, nan, nan, nan, nan, nan, nan, nan, nan, nan, nan, nan,\n",
      "        nan, nan, nan, nan, nan, nan, nan, nan, nan, nan, nan, nan, nan, nan, nan, nan, nan, nan, nan, nan, nan, nan, nan, nan,\n",
      "        nan, nan, nan, nan, nan, nan, nan, nan, nan, nan, nan, nan, nan, nan, nan, nan, nan, nan, nan, nan, nan, nan, nan, nan,\n",
      "        nan, nan, nan, nan, nan, nan, nan, nan])\n",
      "trial 5\n",
      "parameter Parameter containing:\n",
      "tensor([[nan, nan, nan,  ..., nan, nan, nan],\n",
      "        [nan, nan, nan,  ..., nan, nan, nan],\n",
      "        [nan, nan, nan,  ..., nan, nan, nan],\n",
      "        ...,\n",
      "        [nan, nan, nan,  ..., nan, nan, nan],\n",
      "        [nan, nan, nan,  ..., nan, nan, nan],\n",
      "        [nan, nan, nan,  ..., nan, nan, nan]], requires_grad=True)\n",
      "gradients tensor([[nan, nan, nan,  ..., nan, nan, nan],\n",
      "        [nan, nan, nan,  ..., nan, nan, nan],\n",
      "        [nan, nan, nan,  ..., nan, nan, nan],\n",
      "        ...,\n",
      "        [nan, nan, nan,  ..., nan, nan, nan],\n",
      "        [nan, nan, nan,  ..., nan, nan, nan],\n",
      "        [nan, nan, nan,  ..., nan, nan, nan]])\n",
      "trial 5\n",
      "parameter Parameter containing:\n",
      "tensor([nan, nan, nan, nan, nan, nan, nan, nan, nan, nan, nan, nan, nan, nan, nan, nan, nan, nan, nan, nan, nan, nan, nan, nan,\n",
      "        nan, nan, nan, nan, nan, nan, nan, nan, nan, nan, nan, nan, nan, nan, nan, nan, nan, nan, nan, nan, nan, nan, nan, nan,\n",
      "        nan, nan, nan, nan, nan, nan, nan, nan, nan, nan, nan, nan, nan, nan, nan, nan, nan, nan, nan, nan, nan, nan, nan, nan,\n",
      "        nan, nan, nan, nan, nan, nan, nan, nan, nan, nan, nan, nan, nan, nan, nan, nan, nan, nan, nan, nan, nan, nan, nan, nan,\n",
      "        nan, nan, nan, nan, nan, nan, nan, nan, nan, nan, nan, nan, nan, nan, nan, nan, nan, nan, nan, nan, nan, nan, nan, nan,\n",
      "        nan, nan, nan, nan, nan, nan, nan, nan], requires_grad=True)\n",
      "gradients tensor([nan, nan, nan, nan, nan, nan, nan, nan, nan, nan, nan, nan, nan, nan, nan, nan, nan, nan, nan, nan, nan, nan, nan, nan,\n",
      "        nan, nan, nan, nan, nan, nan, nan, nan, nan, nan, nan, nan, nan, nan, nan, nan, nan, nan, nan, nan, nan, nan, nan, nan,\n",
      "        nan, nan, nan, nan, nan, nan, nan, nan, nan, nan, nan, nan, nan, nan, nan, nan, nan, nan, nan, nan, nan, nan, nan, nan,\n",
      "        nan, nan, nan, nan, nan, nan, nan, nan, nan, nan, nan, nan, nan, nan, nan, nan, nan, nan, nan, nan, nan, nan, nan, nan,\n",
      "        nan, nan, nan, nan, nan, nan, nan, nan, nan, nan, nan, nan, nan, nan, nan, nan, nan, nan, nan, nan, nan, nan, nan, nan,\n",
      "        nan, nan, nan, nan, nan, nan, nan, nan])\n",
      "trial 5\n",
      "parameter Parameter containing:\n",
      "tensor([[nan, nan, nan,  ..., nan, nan, nan],\n",
      "        [nan, nan, nan,  ..., nan, nan, nan],\n",
      "        [nan, nan, nan,  ..., nan, nan, nan],\n",
      "        ...,\n",
      "        [nan, nan, nan,  ..., nan, nan, nan],\n",
      "        [nan, nan, nan,  ..., nan, nan, nan],\n",
      "        [nan, nan, nan,  ..., nan, nan, nan]], requires_grad=True)\n",
      "gradients tensor([[nan, nan, nan,  ..., nan, nan, nan],\n",
      "        [nan, nan, nan,  ..., nan, nan, nan],\n",
      "        [nan, nan, nan,  ..., nan, nan, nan],\n",
      "        ...,\n",
      "        [nan, nan, nan,  ..., nan, nan, nan],\n",
      "        [nan, nan, nan,  ..., nan, nan, nan],\n",
      "        [nan, nan, nan,  ..., nan, nan, nan]])\n",
      "trial 5\n",
      "parameter Parameter containing:\n",
      "tensor([nan, nan, nan, nan, nan, nan, nan, nan, nan, nan], requires_grad=True)\n",
      "gradients tensor([nan, nan, nan, nan, nan, nan, nan, nan, nan, nan])\n",
      "trial 5\n",
      "parameter Parameter containing:\n",
      "tensor([[nan, nan, nan, nan, nan, nan, nan, nan, nan, nan, nan, nan, nan, nan, nan, nan, nan, nan, nan, nan, nan, nan, nan, nan,\n",
      "         nan, nan, nan, nan, nan, nan, nan, nan, nan, nan, nan, nan, nan, nan, nan, nan, nan, nan, nan, nan, nan, nan, nan, nan,\n",
      "         nan, nan, nan, nan, nan, nan, nan, nan, nan, nan, nan, nan, nan, nan, nan, nan, nan, nan, nan, nan, nan, nan, nan, nan,\n",
      "         nan, nan, nan, nan, nan, nan, nan, nan, nan, nan, nan, nan, nan, nan, nan, nan, nan, nan, nan, nan, nan, nan, nan, nan,\n",
      "         nan, nan, nan, nan, nan, nan, nan, nan, nan, nan, nan, nan, nan, nan, nan, nan, nan, nan, nan, nan, nan, nan, nan, nan,\n",
      "         nan, nan, nan, nan, nan, nan, nan, nan]], requires_grad=True)\n",
      "gradients tensor([[nan, nan, nan, nan, nan, nan, nan, nan, nan, nan, nan, nan, nan, nan, nan, nan, nan, nan, nan, nan, nan, nan, nan, nan,\n",
      "         nan, nan, nan, nan, nan, nan, nan, nan, nan, nan, nan, nan, nan, nan, nan, nan, nan, nan, nan, nan, nan, nan, nan, nan,\n",
      "         nan, nan, nan, nan, nan, nan, nan, nan, nan, nan, nan, nan, nan, nan, nan, nan, nan, nan, nan, nan, nan, nan, nan, nan,\n",
      "         nan, nan, nan, nan, nan, nan, nan, nan, nan, nan, nan, nan, nan, nan, nan, nan, nan, nan, nan, nan, nan, nan, nan, nan,\n",
      "         nan, nan, nan, nan, nan, nan, nan, nan, nan, nan, nan, nan, nan, nan, nan, nan, nan, nan, nan, nan, nan, nan, nan, nan,\n",
      "         nan, nan, nan, nan, nan, nan, nan, nan]])\n",
      "trial 5\n",
      "parameter Parameter containing:\n",
      "tensor([nan], requires_grad=True)\n",
      "gradients tensor([nan])\n",
      "tensor([ 69.5804,  96.7408, 122.3290, 149.0511, 178.6531, 213.1113, 255.4359,\n",
      "        311.2345, 393.5566, 547.1796], dtype=torch.float64)\n",
      "tensor([247.7851,   9.8581,   2.4954]) tensor([nan, nan, nan, nan, nan, nan, nan, nan, nan, nan, nan, nan, nan, nan, nan, nan, nan, nan, nan, nan, nan, nan, nan, nan,\n",
      "        nan, nan, nan, nan, nan, nan, nan, nan, nan, nan, nan, nan, nan, nan, nan, nan, nan, nan, nan, nan, nan, nan, nan, nan,\n",
      "        nan, nan, nan, nan, nan, nan, nan, nan, nan, nan, nan, nan, nan, nan, nan, nan, nan, nan, nan, nan, nan, nan, nan, nan,\n",
      "        nan, nan, nan, nan, nan, nan, nan, nan, nan, nan, nan, nan, nan, nan, nan, nan, nan, nan, nan, nan, nan, nan, nan, nan,\n",
      "        nan, nan, nan, nan, nan, nan, nan, nan, nan, nan, nan, nan, nan, nan, nan, nan, nan, nan, nan, nan, nan, nan, nan, nan,\n",
      "        nan, nan, nan, nan, nan, nan, nan, nan, nan, nan, nan, nan, nan, nan, nan, nan, nan, nan, nan, nan, nan, nan, nan, nan,\n",
      "        nan, nan, nan, nan, nan, nan, nan, nan, nan, nan, nan, nan, nan, nan, nan, nan, nan, nan, nan, nan, nan, nan, nan, nan,\n",
      "        nan, nan, nan, nan, nan, nan, nan, nan, nan, nan, nan, nan, nan, nan, nan, nan, nan, nan, nan, nan, nan, nan, nan, nan,\n",
      "        nan, nan, nan, nan, nan, nan, nan, nan, nan, nan, nan, nan, nan, nan, nan, nan, nan, nan, nan, nan, nan, nan, nan, nan,\n",
      "        nan, nan, nan, nan, nan, nan, nan, nan, nan, nan, nan, nan, nan, nan, nan, nan, nan, nan, nan, nan, nan, nan, nan, nan,\n",
      "        nan, nan, nan, nan, nan, nan, nan, nan, nan, nan, nan, nan, nan, nan, nan, nan, nan, nan, nan, nan, nan, nan, nan, nan,\n",
      "        nan, nan, nan, nan, nan, nan, nan, nan, nan, nan, nan, nan, nan, nan, nan, nan, nan, nan, nan, nan, nan, nan, nan, nan,\n",
      "        nan, nan, nan, nan, nan, nan, nan, nan, nan, nan, nan, nan, nan, nan, nan, nan, nan, nan, nan, nan, nan, nan, nan, nan,\n",
      "        nan, nan, nan, nan, nan, nan, nan, nan, nan, nan, nan, nan, nan, nan, nan, nan, nan, nan, nan, nan, nan, nan, nan, nan,\n",
      "        nan, nan, nan, nan, nan, nan, nan, nan, nan, nan, nan, nan, nan, nan, nan, nan, nan, nan, nan, nan, nan, nan, nan, nan,\n",
      "        nan, nan, nan, nan, nan, nan, nan, nan, nan, nan, nan, nan, nan, nan, nan, nan, nan, nan, nan, nan, nan, nan, nan, nan,\n",
      "        nan, nan, nan, nan, nan, nan, nan, nan, nan, nan, nan, nan, nan, nan, nan, nan, nan, nan, nan, nan, nan, nan, nan, nan,\n",
      "        nan, nan, nan, nan, nan, nan, nan, nan, nan, nan, nan, nan, nan, nan, nan, nan, nan, nan, nan, nan, nan, nan, nan, nan,\n",
      "        nan, nan, nan, nan, nan, nan, nan, nan, nan, nan, nan, nan, nan, nan, nan, nan, nan, nan, nan, nan, nan, nan, nan, nan,\n",
      "        nan, nan, nan, nan, nan, nan, nan, nan, nan, nan, nan, nan, nan, nan, nan, nan, nan, nan, nan, nan, nan, nan, nan, nan,\n",
      "        nan, nan, nan, nan, nan, nan, nan, nan, nan, nan, nan, nan, nan, nan, nan, nan, nan, nan, nan, nan, nan, nan, nan, nan,\n",
      "        nan, nan, nan, nan, nan, nan, nan, nan, nan, nan, nan, nan, nan, nan, nan, nan, nan, nan, nan, nan, nan, nan, nan, nan,\n",
      "        nan, nan, nan, nan, nan, nan, nan, nan, nan, nan, nan, nan, nan, nan, nan, nan, nan, nan, nan, nan, nan, nan, nan, nan,\n",
      "        nan, nan, nan, nan, nan, nan, nan, nan, nan, nan, nan, nan, nan, nan, nan, nan, nan, nan, nan, nan, nan, nan, nan, nan,\n",
      "        nan, nan, nan, nan, nan, nan, nan, nan, nan, nan, nan, nan, nan, nan, nan, nan, nan, nan, nan, nan, nan, nan, nan, nan,\n",
      "        nan, nan, nan, nan, nan, nan, nan, nan, nan, nan, nan, nan, nan, nan, nan, nan, nan, nan, nan, nan, nan, nan, nan, nan,\n",
      "        nan, nan, nan, nan, nan, nan, nan, nan, nan, nan, nan, nan, nan, nan, nan, nan, nan, nan, nan, nan, nan, nan, nan, nan,\n",
      "        nan, nan, nan, nan, nan, nan, nan, nan, nan, nan, nan, nan, nan, nan, nan],\n",
      "       grad_fn=<IndexPutBackward0>)\n",
      "nan! tensor([  2.3941,   0.9938,   0.3971, 109.0000])\n",
      "batch 0\n",
      "p right before tensor([  2.3941,   0.9938,   0.3971, 201.0000])\n"
     ]
    },
    {
     "ename": "RuntimeError",
     "evalue": "element 0 of tensors does not require grad and does not have a grad_fn",
     "output_type": "error",
     "traceback": [
      "\u001b[0;31m---------------------------------------------------------------------------\u001b[0m",
      "\u001b[0;31mRuntimeError\u001b[0m                              Traceback (most recent call last)",
      "\u001b[0;32m<ipython-input-80-de929d26ab30>\u001b[0m in \u001b[0;36m<module>\u001b[0;34m\u001b[0m\n\u001b[1;32m      1\u001b[0m \u001b[0mt1\u001b[0m \u001b[0;34m=\u001b[0m \u001b[0mtime\u001b[0m\u001b[0;34m.\u001b[0m\u001b[0mtime\u001b[0m\u001b[0;34m(\u001b[0m\u001b[0;34m)\u001b[0m\u001b[0;34m\u001b[0m\u001b[0;34m\u001b[0m\u001b[0m\n\u001b[0;32m----> 2\u001b[0;31m \u001b[0me\u001b[0m\u001b[0;34m,\u001b[0m\u001b[0mt\u001b[0m\u001b[0;34m,\u001b[0m\u001b[0mmodel\u001b[0m \u001b[0;34m=\u001b[0m \u001b[0mtrc\u001b[0m\u001b[0;34m.\u001b[0m\u001b[0mtrain\u001b[0m\u001b[0;34m(\u001b[0m\u001b[0mtrain_list\u001b[0m\u001b[0;34m[\u001b[0m\u001b[0;34m:\u001b[0m\u001b[0;36m500\u001b[0m\u001b[0;34m]\u001b[0m\u001b[0;34m,\u001b[0m\u001b[0mtest_list\u001b[0m\u001b[0;34m[\u001b[0m\u001b[0;34m:\u001b[0m\u001b[0;36m500\u001b[0m\u001b[0;34m]\u001b[0m\u001b[0;34m,\u001b[0m\u001b[0mmodel_config\u001b[0m\u001b[0;34m,\u001b[0m\u001b[0mtrain_config\u001b[0m\u001b[0;34m,\u001b[0m\u001b[0mget_ypred_at_RT\u001b[0m\u001b[0;34m)\u001b[0m\u001b[0;34m\u001b[0m\u001b[0;34m\u001b[0m\u001b[0m\n\u001b[0m\u001b[1;32m      3\u001b[0m \u001b[0mt2\u001b[0m \u001b[0;34m=\u001b[0m \u001b[0mtime\u001b[0m\u001b[0;34m.\u001b[0m\u001b[0mtime\u001b[0m\u001b[0;34m(\u001b[0m\u001b[0;34m)\u001b[0m\u001b[0;34m\u001b[0m\u001b[0;34m\u001b[0m\u001b[0m\n\u001b[1;32m      4\u001b[0m \u001b[0;34m\u001b[0m\u001b[0m\n\u001b[1;32m      5\u001b[0m \u001b[0mdt\u001b[0m \u001b[0;34m=\u001b[0m \u001b[0mt2\u001b[0m\u001b[0;34m-\u001b[0m\u001b[0mt1\u001b[0m\u001b[0;34m\u001b[0m\u001b[0;34m\u001b[0m\u001b[0m\n",
      "\u001b[0;32m~/CME/git/CME_approximations/Conditional/train_conditional.py\u001b[0m in \u001b[0;36mtrain\u001b[0;34m(train_list, test_list, model_config, train_config, get_ypred_at_RT)\u001b[0m\n\u001b[1;32m    304\u001b[0m \u001b[0;34m\u001b[0m\u001b[0m\n\u001b[1;32m    305\u001b[0m         \u001b[0;31m# REDEFINE\u001b[0m\u001b[0;34m\u001b[0m\u001b[0;34m\u001b[0m\u001b[0;34m\u001b[0m\u001b[0m\n\u001b[0;32m--> 306\u001b[0;31m         \u001b[0mmetval_\u001b[0m \u001b[0;34m=\u001b[0m \u001b[0mrun_epoch\u001b[0m\u001b[0;34m(\u001b[0m\u001b[0mp_list\u001b[0m\u001b[0;34m,\u001b[0m\u001b[0my_list\u001b[0m\u001b[0;34m,\u001b[0m\u001b[0mmodel\u001b[0m\u001b[0;34m,\u001b[0m\u001b[0moptimizer\u001b[0m\u001b[0;34m,\u001b[0m\u001b[0mbatchsize\u001b[0m\u001b[0;34m,\u001b[0m\u001b[0mget_ypred_at_RT\u001b[0m\u001b[0;34m,\u001b[0m\u001b[0mmetric\u001b[0m\u001b[0;34m)\u001b[0m\u001b[0;34m\u001b[0m\u001b[0;34m\u001b[0m\u001b[0m\n\u001b[0m\u001b[1;32m    307\u001b[0m \u001b[0;34m\u001b[0m\u001b[0m\n\u001b[1;32m    308\u001b[0m         \u001b[0;31m# store epoch metric\u001b[0m\u001b[0;34m\u001b[0m\u001b[0;34m\u001b[0m\u001b[0;34m\u001b[0m\u001b[0m\n",
      "\u001b[0;32m~/CME/git/CME_approximations/Conditional/train_conditional.py\u001b[0m in \u001b[0;36mrun_epoch\u001b[0;34m(p_list, y_list, model, optimizer, batchsize, get_ypred_at_RT, metric)\u001b[0m\n\u001b[1;32m    247\u001b[0m \u001b[0;34m\u001b[0m\u001b[0m\n\u001b[1;32m    248\u001b[0m         \u001b[0;31m# Perform backward pass\u001b[0m\u001b[0;34m\u001b[0m\u001b[0;34m\u001b[0m\u001b[0;34m\u001b[0m\u001b[0m\n\u001b[0;32m--> 249\u001b[0;31m         \u001b[0mloss\u001b[0m\u001b[0;34m.\u001b[0m\u001b[0mbackward\u001b[0m\u001b[0;34m(\u001b[0m\u001b[0;34m)\u001b[0m\u001b[0;34m\u001b[0m\u001b[0;34m\u001b[0m\u001b[0m\n\u001b[0m\u001b[1;32m    250\u001b[0m \u001b[0;34m\u001b[0m\u001b[0m\n\u001b[1;32m    251\u001b[0m         \u001b[0;31m#nn.utils.clip_grad_value_(model.parameters(), clip_value=.1)\u001b[0m\u001b[0;34m\u001b[0m\u001b[0;34m\u001b[0m\u001b[0;34m\u001b[0m\u001b[0m\n",
      "\u001b[0;32m~/anaconda3/lib/python3.8/site-packages/torch/_tensor.py\u001b[0m in \u001b[0;36mbackward\u001b[0;34m(self, gradient, retain_graph, create_graph, inputs)\u001b[0m\n\u001b[1;32m    305\u001b[0m                 \u001b[0mcreate_graph\u001b[0m\u001b[0;34m=\u001b[0m\u001b[0mcreate_graph\u001b[0m\u001b[0;34m,\u001b[0m\u001b[0;34m\u001b[0m\u001b[0;34m\u001b[0m\u001b[0m\n\u001b[1;32m    306\u001b[0m                 inputs=inputs)\n\u001b[0;32m--> 307\u001b[0;31m         \u001b[0mtorch\u001b[0m\u001b[0;34m.\u001b[0m\u001b[0mautograd\u001b[0m\u001b[0;34m.\u001b[0m\u001b[0mbackward\u001b[0m\u001b[0;34m(\u001b[0m\u001b[0mself\u001b[0m\u001b[0;34m,\u001b[0m \u001b[0mgradient\u001b[0m\u001b[0;34m,\u001b[0m \u001b[0mretain_graph\u001b[0m\u001b[0;34m,\u001b[0m \u001b[0mcreate_graph\u001b[0m\u001b[0;34m,\u001b[0m \u001b[0minputs\u001b[0m\u001b[0;34m=\u001b[0m\u001b[0minputs\u001b[0m\u001b[0;34m)\u001b[0m\u001b[0;34m\u001b[0m\u001b[0;34m\u001b[0m\u001b[0m\n\u001b[0m\u001b[1;32m    308\u001b[0m \u001b[0;34m\u001b[0m\u001b[0m\n\u001b[1;32m    309\u001b[0m     \u001b[0;32mdef\u001b[0m \u001b[0mregister_hook\u001b[0m\u001b[0;34m(\u001b[0m\u001b[0mself\u001b[0m\u001b[0;34m,\u001b[0m \u001b[0mhook\u001b[0m\u001b[0;34m)\u001b[0m\u001b[0;34m:\u001b[0m\u001b[0;34m\u001b[0m\u001b[0;34m\u001b[0m\u001b[0m\n",
      "\u001b[0;32m~/anaconda3/lib/python3.8/site-packages/torch/autograd/__init__.py\u001b[0m in \u001b[0;36mbackward\u001b[0;34m(tensors, grad_tensors, retain_graph, create_graph, grad_variables, inputs)\u001b[0m\n\u001b[1;32m    152\u001b[0m         \u001b[0mretain_graph\u001b[0m \u001b[0;34m=\u001b[0m \u001b[0mcreate_graph\u001b[0m\u001b[0;34m\u001b[0m\u001b[0;34m\u001b[0m\u001b[0m\n\u001b[1;32m    153\u001b[0m \u001b[0;34m\u001b[0m\u001b[0m\n\u001b[0;32m--> 154\u001b[0;31m     Variable._execution_engine.run_backward(\n\u001b[0m\u001b[1;32m    155\u001b[0m         \u001b[0mtensors\u001b[0m\u001b[0;34m,\u001b[0m \u001b[0mgrad_tensors_\u001b[0m\u001b[0;34m,\u001b[0m \u001b[0mretain_graph\u001b[0m\u001b[0;34m,\u001b[0m \u001b[0mcreate_graph\u001b[0m\u001b[0;34m,\u001b[0m \u001b[0minputs\u001b[0m\u001b[0;34m,\u001b[0m\u001b[0;34m\u001b[0m\u001b[0;34m\u001b[0m\u001b[0m\n\u001b[1;32m    156\u001b[0m         allow_unreachable=True, accumulate_grad=True)  # allow_unreachable flag\n",
      "\u001b[0;31mRuntimeError\u001b[0m: element 0 of tensors does not require grad and does not have a grad_fn"
     ]
    }
   ],
   "source": [
    "t1 = time.time()\n",
    "e,t,model = trc.train(train_list[:500],test_list[:500],model_config,train_config,get_ypred_at_RT)\n",
    "t2 = time.time()\n",
    "\n",
    "dt = t2-t1\n",
    "print(t2-t1)"
   ]
  },
  {
   "cell_type": "markdown",
   "metadata": {},
   "source": [
    "Save the model and meta data.\n",
    "\n",
    "Will save two files: \n",
    "    1. 'path/name_MODEL'\n",
    "    2. 'path/name_meta.npy'"
   ]
  },
  {
   "cell_type": "code",
   "execution_count": 452,
   "metadata": {},
   "outputs": [],
   "source": [
    "!mkdir -p models"
   ]
  },
  {
   "cell_type": "code",
   "execution_count": 453,
   "metadata": {},
   "outputs": [],
   "source": [
    "# ttc.save_model_and_meta(model,model_config,train_config,time,path,name)\n",
    "\n",
    "#example:\n",
    "# ttc.save_model_and_meta(model,model_config,train_config,time=dt,path='./models/',name='gg_220410_1k')"
   ]
  },
  {
   "cell_type": "markdown",
   "metadata": {},
   "source": [
    "Then, to load it in, I have defined a class Trained_Model.\n",
    "\n",
    "This includes:\n",
    "    1. example_model.model_configs (dictionary of model configurations) \n",
    "    2. example_model.train_configs (dictionary of training configurations)\n",
    "    3. example_model.time (time it took to train)\n",
    "    4. example_model.model (actual model)\n",
    "    "
   ]
  },
  {
   "cell_type": "code",
   "execution_count": 454,
   "metadata": {},
   "outputs": [],
   "source": [
    "# example_model = ttc.Trained_Model(path, name)\n",
    "\n",
    "#example:\n",
    "#save_model_and_meta('./models/','20220410_')"
   ]
  },
  {
   "cell_type": "markdown",
   "metadata": {},
   "source": [
    "-----\n",
    "\n",
    "## Validation and Plotting"
   ]
  },
  {
   "cell_type": "code",
   "execution_count": 76,
   "metadata": {},
   "outputs": [
    {
     "data": {
      "image/png": "[encoded data removed]",
      "text/plain": [
       "<Figure size 648x432 with 1 Axes>"
      ]
     },
     "metadata": {
      "needs_background": "light"
     },
     "output_type": "display_data"
    }
   ],
   "source": [
    "ttc.plot_training(e,t,metric='kld')"
   ]
  },
  {
   "cell_type": "code",
   "execution_count": 73,
   "metadata": {},
   "outputs": [],
   "source": [
    "metrics,metric_mean = trc.calculate_test_metrics(test_list[:100],model,get_ypred_at_RT,metric='kld')"
   ]
  },
  {
   "cell_type": "code",
   "execution_count": 23,
   "metadata": {},
   "outputs": [
    {
     "data": {
      "image/png": "[encoded data removed]",
      "text/plain": [
       "<Figure size 432x288 with 1 Axes>"
      ]
     },
     "metadata": {
      "needs_background": "light"
     },
     "output_type": "display_data"
    }
   ],
   "source": [
    "ttc.plot_CDF(metrics)"
   ]
  },
  {
   "cell_type": "code",
   "execution_count": 176,
   "metadata": {},
   "outputs": [
    {
     "data": {
      "text/plain": [
       "<module 'train_conditional' from '/home/mcarilli/CME/git/CME_approximations/Conditional/train_conditional.py'>"
      ]
     },
     "execution_count": 176,
     "metadata": {},
     "output_type": "execute_result"
    }
   ],
   "source": [
    "import importlib\n",
    "importlib.reload(trc)"
   ]
  },
  {
   "cell_type": "markdown",
   "metadata": {},
   "source": [
    "But if we train again, with more data..."
   ]
  },
  {
   "cell_type": "code",
   "execution_count": 181,
   "metadata": {},
   "outputs": [
    {
     "name": "stdout",
     "output_type": "stream",
     "text": [
      "Epoch Number: 0\n",
      "Epoch Number: 1\n",
      "Epoch Number: 2\n",
      "Epoch Number: 3\n",
      "Epoch Number: 4\n",
      "Epoch Number: 5\n",
      "Epoch Number: 6\n",
      "Epoch Number: 7\n",
      "Epoch Number: 8\n",
      "Epoch Number: 9\n",
      "20.74242925643921\n"
     ]
    }
   ],
   "source": [
    "t1 = time.time()\n",
    "e,t,model = trc.train(train_list[0:500],test_list[:20],model_config,train_config,get_ypred_at_RT)\n",
    "t2 = time.time()\n",
    "\n",
    "dt = t2-t1\n",
    "print(t2-t1)"
   ]
  },
  {
   "cell_type": "code",
   "execution_count": 182,
   "metadata": {},
   "outputs": [
    {
     "data": {
      "image/png": "[encoded data removed]",
      "text/plain": [
       "<Figure size 648x432 with 1 Axes>"
      ]
     },
     "metadata": {
      "needs_background": "light"
     },
     "output_type": "display_data"
    }
   ],
   "source": [
    "ttc.plot_training(e,t)\n"
   ]
  },
  {
   "cell_type": "markdown",
   "metadata": {},
   "source": [
    "Let's try transforming."
   ]
  },
  {
   "cell_type": "code",
   "execution_count": 489,
   "metadata": {},
   "outputs": [],
   "source": [
    "import copy"
   ]
  },
  {
   "cell_type": "code",
   "execution_count": 508,
   "metadata": {},
   "outputs": [],
   "source": [
    "train_list_log = copy.deepcopy(train_list)\n",
    "test_list_log = copy.deepcopy(test_list)"
   ]
  },
  {
   "cell_type": "code",
   "execution_count": 509,
   "metadata": {},
   "outputs": [
    {
     "data": {
      "text/plain": [
       "array([ 0.26555198, -0.77010268,  0.3630054 ,  0.        ])"
      ]
     },
     "execution_count": 509,
     "metadata": {},
     "output_type": "execute_result"
    }
   ],
   "source": [
    "test_list_log[0][0]"
   ]
  },
  {
   "cell_type": "code",
   "execution_count": 510,
   "metadata": {},
   "outputs": [],
   "source": [
    "for i in range(len(test_list_log)):\n",
    "    test_list_log[i][0][-1] = np.log(test_list_log[i][0][-1] + 1)\n",
    "for i in range(len(train_list_log)):\n",
    "    train_list_log[i][0][-1] = np.log(train_list_log[i][0][-1] + 1)"
   ]
  },
  {
   "cell_type": "code",
   "execution_count": 511,
   "metadata": {},
   "outputs": [
    {
     "name": "stdout",
     "output_type": "stream",
     "text": [
      "Epoch Number: 0\n",
      "Epoch Number: 1\n",
      "Epoch Number: 2\n",
      "Epoch Number: 3\n",
      "Epoch Number: 4\n",
      "Epoch Number: 5\n",
      "Epoch Number: 6\n",
      "Epoch Number: 7\n",
      "Epoch Number: 8\n",
      "Epoch Number: 9\n",
      "23.971375465393066\n"
     ]
    }
   ],
   "source": [
    "t1 = time.time()\n",
    "ypred_fun = lambda p,w,hyp: get_ypred_at_RT(p,w,hyp,log=True)\n",
    "e,t,model = trc.train(train_list_log[:1000],test_list_log[:200],model_config,train_config,ypred_fun)\n",
    "t2 = time.time()\n",
    "\n",
    "dt = t2-t1\n",
    "print(t2-t1)"
   ]
  },
  {
   "cell_type": "code",
   "execution_count": 512,
   "metadata": {},
   "outputs": [
    {
     "data": {
      "text/plain": [
       "Parameter containing:\n",
       "tensor([[nan, nan, nan, nan],\n",
       "        [nan, nan, nan, nan],\n",
       "        [nan, nan, nan, nan],\n",
       "        ...,\n",
       "        [nan, nan, nan, nan],\n",
       "        [nan, nan, nan, nan],\n",
       "        [nan, nan, nan, nan]], requires_grad=True)"
      ]
     },
     "execution_count": 512,
     "metadata": {},
     "output_type": "execute_result"
    }
   ],
   "source": [
    "model.input.weight"
   ]
  },
  {
   "cell_type": "markdown",
   "metadata": {},
   "source": [
    "doesn't work :("
   ]
  },
  {
   "cell_type": "code",
   "execution_count": 399,
   "metadata": {},
   "outputs": [],
   "source": [
    "# ttc.plot_histogram(metrics,bins,metric='kld')"
   ]
  },
  {
   "cell_type": "code",
   "execution_count": null,
   "metadata": {},
   "outputs": [],
   "source": [
    "# test_list[:2]"
   ]
  },
  {
   "cell_type": "markdown",
   "metadata": {},
   "source": [
    "doesn't work yet."
   ]
  },
  {
   "cell_type": "code",
   "execution_count": 104,
   "metadata": {},
   "outputs": [
    {
     "ename": "IndexError",
     "evalue": "index 0 is out of bounds for dimension 0 with size 0",
     "output_type": "error",
     "traceback": [
      "\u001b[0;31m---------------------------------------------------------------------------\u001b[0m",
      "\u001b[0;31mIndexError\u001b[0m                                Traceback (most recent call last)",
      "\u001b[0;32m<ipython-input-104-6bf11f699ee4>\u001b[0m in \u001b[0;36m<module>\u001b[0;34m\u001b[0m\n\u001b[0;32m----> 1\u001b[0;31m \u001b[0mttc\u001b[0m\u001b[0;34m.\u001b[0m\u001b[0mplot_PMF_grid\u001b[0m\u001b[0;34m(\u001b[0m\u001b[0mtest_list\u001b[0m\u001b[0;34m[\u001b[0m\u001b[0;34m:\u001b[0m\u001b[0;36m25\u001b[0m\u001b[0;34m]\u001b[0m\u001b[0;34m,\u001b[0m\u001b[0mnpdf\u001b[0m\u001b[0;34m,\u001b[0m\u001b[0;36m5\u001b[0m\u001b[0;34m,\u001b[0m\u001b[0;36m5\u001b[0m\u001b[0;34m,\u001b[0m\u001b[0mmodel\u001b[0m\u001b[0;34m,\u001b[0m\u001b[0mget_ypred_at_RT\u001b[0m\u001b[0;34m,\u001b[0m\u001b[0mkld\u001b[0m\u001b[0;34m=\u001b[0m\u001b[0;32mTrue\u001b[0m\u001b[0;34m)\u001b[0m\u001b[0;34m\u001b[0m\u001b[0;34m\u001b[0m\u001b[0m\n\u001b[0m",
      "\u001b[0;32m~/projects/CME_approximations/Conditional/tools_conditional.py\u001b[0m in \u001b[0;36mplot_PMF_grid\u001b[0;34m(data_list, npdf, nrows, ncols, model, get_ypred_at_RT, kld)\u001b[0m\n\u001b[1;32m     22\u001b[0m     \u001b[0;32mfor\u001b[0m \u001b[0mr\u001b[0m \u001b[0;32min\u001b[0m \u001b[0mrand\u001b[0m\u001b[0;34m:\u001b[0m\u001b[0;34m\u001b[0m\u001b[0;34m\u001b[0m\u001b[0m\n\u001b[1;32m     23\u001b[0m         \u001b[0mr\u001b[0m \u001b[0;34m=\u001b[0m \u001b[0mint\u001b[0m\u001b[0;34m(\u001b[0m\u001b[0mr\u001b[0m\u001b[0;34m)\u001b[0m\u001b[0;34m\u001b[0m\u001b[0;34m\u001b[0m\u001b[0m\n\u001b[0;32m---> 24\u001b[0;31m         \u001b[0my_pred\u001b[0m \u001b[0;34m=\u001b[0m \u001b[0mtrc\u001b[0m\u001b[0;34m.\u001b[0m\u001b[0mget_predicted_PMF\u001b[0m\u001b[0;34m(\u001b[0m\u001b[0mp_list\u001b[0m\u001b[0;34m,\u001b[0m\u001b[0mposition\u001b[0m\u001b[0;34m=\u001b[0m\u001b[0mr\u001b[0m\u001b[0;34m,\u001b[0m\u001b[0mmodel\u001b[0m\u001b[0;34m=\u001b[0m\u001b[0mmodel\u001b[0m\u001b[0;34m,\u001b[0m\u001b[0mget_ypred_at_RT\u001b[0m\u001b[0;34m=\u001b[0m\u001b[0mget_ypred_at_RT\u001b[0m\u001b[0;34m)\u001b[0m\u001b[0;34m\u001b[0m\u001b[0;34m\u001b[0m\u001b[0m\n\u001b[0m\u001b[1;32m     25\u001b[0m \u001b[0;34m\u001b[0m\u001b[0m\n\u001b[1;32m     26\u001b[0m         \u001b[0my\u001b[0m\u001b[0;34m.\u001b[0m\u001b[0mappend\u001b[0m\u001b[0;34m(\u001b[0m\u001b[0my_list\u001b[0m\u001b[0;34m[\u001b[0m\u001b[0mr\u001b[0m\u001b[0;34m]\u001b[0m\u001b[0;34m)\u001b[0m\u001b[0;34m\u001b[0m\u001b[0;34m\u001b[0m\u001b[0m\n",
      "\u001b[0;32m~/projects/CME_approximations/Conditional/train_conditional.py\u001b[0m in \u001b[0;36mget_predicted_PMF\u001b[0;34m(p_list, position, model, get_ypred_at_RT)\u001b[0m\n\u001b[1;32m    119\u001b[0m     \u001b[0mw_\u001b[0m\u001b[0;34m,\u001b[0m\u001b[0mhyp_\u001b[0m\u001b[0;34m,\u001b[0m\u001b[0mw_un_\u001b[0m \u001b[0;34m=\u001b[0m \u001b[0mmodel\u001b[0m\u001b[0;34m(\u001b[0m\u001b[0mp_\u001b[0m\u001b[0;34m)\u001b[0m\u001b[0;34m\u001b[0m\u001b[0;34m\u001b[0m\u001b[0m\n\u001b[1;32m    120\u001b[0m \u001b[0;34m\u001b[0m\u001b[0m\n\u001b[0;32m--> 121\u001b[0;31m     \u001b[0mp\u001b[0m \u001b[0;34m=\u001b[0m \u001b[0mp_\u001b[0m\u001b[0;34m[\u001b[0m\u001b[0;36m0\u001b[0m\u001b[0;34m]\u001b[0m\u001b[0;34m\u001b[0m\u001b[0;34m\u001b[0m\u001b[0m\n\u001b[0m\u001b[1;32m    122\u001b[0m     \u001b[0mw\u001b[0m \u001b[0;34m=\u001b[0m \u001b[0mw_\u001b[0m\u001b[0;34m[\u001b[0m\u001b[0;36m0\u001b[0m\u001b[0;34m]\u001b[0m\u001b[0;34m\u001b[0m\u001b[0;34m\u001b[0m\u001b[0m\n\u001b[1;32m    123\u001b[0m     \u001b[0mhyp\u001b[0m \u001b[0;34m=\u001b[0m \u001b[0mhyp_\u001b[0m\u001b[0;34m[\u001b[0m\u001b[0;36m0\u001b[0m\u001b[0;34m]\u001b[0m\u001b[0;34m\u001b[0m\u001b[0;34m\u001b[0m\u001b[0m\n",
      "\u001b[0;31mIndexError\u001b[0m: index 0 is out of bounds for dimension 0 with size 0"
     ]
    }
   ],
   "source": [
    "ttc.plot_PMF_grid(test_list[:25],npdf,5,5,model,get_ypred_at_RT,kld=True)"
   ]
  },
  {
   "cell_type": "code",
   "execution_count": 461,
   "metadata": {},
   "outputs": [
    {
     "ename": "NameError",
     "evalue": "name 'rt1' is not defined",
     "output_type": "error",
     "traceback": [
      "\u001b[0;31m---------------------------------------------------------------------------\u001b[0m",
      "\u001b[0;31mNameError\u001b[0m                                 Traceback (most recent call last)",
      "\u001b[0;32m<ipython-input-461-21238a491df6>\u001b[0m in \u001b[0;36m<module>\u001b[0;34m\u001b[0m\n\u001b[0;32m----> 1\u001b[0;31m \u001b[0mttc\u001b[0m\u001b[0;34m.\u001b[0m\u001b[0mplot_param_quantiles\u001b[0m\u001b[0;34m(\u001b[0m\u001b[0mklds\u001b[0m\u001b[0;34m=\u001b[0m\u001b[0mmetrics\u001b[0m\u001b[0;34m,\u001b[0m\u001b[0mtrain_list\u001b[0m\u001b[0;34m=\u001b[0m\u001b[0mtest_list\u001b[0m\u001b[0;34m,\u001b[0m\u001b[0mmodel\u001b[0m\u001b[0;34m=\u001b[0m\u001b[0mmodel\u001b[0m\u001b[0;34m)\u001b[0m\u001b[0;34m\u001b[0m\u001b[0;34m\u001b[0m\u001b[0m\n\u001b[0m",
      "\u001b[0;32m~/projects/CME_approximations/Conditional/tools_conditional.py\u001b[0m in \u001b[0;36mplot_param_quantiles\u001b[0;34m(klds, train_list, model)\u001b[0m\n\u001b[1;32m    132\u001b[0m \u001b[0;32mdef\u001b[0m \u001b[0mplot_param_quantiles\u001b[0m\u001b[0;34m(\u001b[0m\u001b[0mklds\u001b[0m\u001b[0;34m,\u001b[0m\u001b[0mtrain_list\u001b[0m\u001b[0;34m,\u001b[0m\u001b[0mmodel\u001b[0m\u001b[0;34m)\u001b[0m\u001b[0;34m:\u001b[0m\u001b[0;34m\u001b[0m\u001b[0;34m\u001b[0m\u001b[0m\n\u001b[1;32m    133\u001b[0m \u001b[0;34m\u001b[0m\u001b[0m\n\u001b[0;32m--> 134\u001b[0;31m     \u001b[0mparams_segment_1\u001b[0m\u001b[0;34m,\u001b[0m\u001b[0mklds_segment_1\u001b[0m \u001b[0;34m=\u001b[0m \u001b[0mget_parameters_quantile\u001b[0m\u001b[0;34m(\u001b[0m\u001b[0mtrain_list\u001b[0m\u001b[0;34m,\u001b[0m\u001b[0mmodel\u001b[0m\u001b[0;34m,\u001b[0m\u001b[0mklds\u001b[0m\u001b[0;34m,\u001b[0m\u001b[0mquantiles\u001b[0m\u001b[0;34m=\u001b[0m\u001b[0;34m[\u001b[0m\u001b[0;36m0\u001b[0m\u001b[0;34m,\u001b[0m\u001b[0;36m.25\u001b[0m\u001b[0;34m]\u001b[0m\u001b[0;34m)\u001b[0m\u001b[0;34m\u001b[0m\u001b[0;34m\u001b[0m\u001b[0m\n\u001b[0m\u001b[1;32m    135\u001b[0m     \u001b[0mparams_segment_2\u001b[0m\u001b[0;34m,\u001b[0m\u001b[0mklds_segment_2\u001b[0m \u001b[0;34m=\u001b[0m \u001b[0mget_parameters_quantile\u001b[0m\u001b[0;34m(\u001b[0m\u001b[0mtrain_list\u001b[0m\u001b[0;34m,\u001b[0m\u001b[0mmodel\u001b[0m\u001b[0;34m,\u001b[0m\u001b[0mklds\u001b[0m\u001b[0;34m,\u001b[0m\u001b[0mquantiles\u001b[0m\u001b[0;34m=\u001b[0m\u001b[0;34m[\u001b[0m\u001b[0;36m.25\u001b[0m\u001b[0;34m,\u001b[0m\u001b[0;36m.5\u001b[0m\u001b[0;34m]\u001b[0m\u001b[0;34m)\u001b[0m\u001b[0;34m\u001b[0m\u001b[0;34m\u001b[0m\u001b[0m\n\u001b[1;32m    136\u001b[0m     \u001b[0mparams_segment_3\u001b[0m\u001b[0;34m,\u001b[0m\u001b[0mklds_segment_3\u001b[0m \u001b[0;34m=\u001b[0m \u001b[0mget_parameters_quantile\u001b[0m\u001b[0;34m(\u001b[0m\u001b[0mtrain_list\u001b[0m\u001b[0;34m,\u001b[0m\u001b[0mmodel\u001b[0m\u001b[0;34m,\u001b[0m\u001b[0mklds\u001b[0m\u001b[0;34m,\u001b[0m\u001b[0mquantiles\u001b[0m\u001b[0;34m=\u001b[0m\u001b[0;34m[\u001b[0m\u001b[0;36m.5\u001b[0m\u001b[0;34m,\u001b[0m\u001b[0;36m.75\u001b[0m\u001b[0;34m]\u001b[0m\u001b[0;34m)\u001b[0m\u001b[0;34m\u001b[0m\u001b[0;34m\u001b[0m\u001b[0m\n",
      "\u001b[0;32m~/projects/CME_approximations/Conditional/tools_conditional.py\u001b[0m in \u001b[0;36mget_parameters_quantile\u001b[0;34m(train_list, model, klds, quantiles)\u001b[0m\n\u001b[1;32m    117\u001b[0m     \u001b[0;34m'''Returns given percent parameters with the highest klds and klds.'''\u001b[0m\u001b[0;34m\u001b[0m\u001b[0;34m\u001b[0m\u001b[0m\n\u001b[1;32m    118\u001b[0m \u001b[0;34m\u001b[0m\u001b[0m\n\u001b[0;32m--> 119\u001b[0;31m     \u001b[0mparameters\u001b[0m\u001b[0;34m,\u001b[0m\u001b[0my_list\u001b[0m \u001b[0;34m=\u001b[0m \u001b[0mrt1\u001b[0m\u001b[0;34m.\u001b[0m\u001b[0mload_training_data\u001b[0m\u001b[0;34m(\u001b[0m\u001b[0mtrain_list\u001b[0m\u001b[0;34m)\u001b[0m\u001b[0;34m\u001b[0m\u001b[0;34m\u001b[0m\u001b[0m\n\u001b[0m\u001b[1;32m    120\u001b[0m \u001b[0;34m\u001b[0m\u001b[0m\n\u001b[1;32m    121\u001b[0m     \u001b[0mkld_low\u001b[0m \u001b[0;34m=\u001b[0m \u001b[0mnp\u001b[0m\u001b[0;34m.\u001b[0m\u001b[0mquantile\u001b[0m\u001b[0;34m(\u001b[0m\u001b[0mklds\u001b[0m\u001b[0;34m,\u001b[0m\u001b[0mquantiles\u001b[0m\u001b[0;34m[\u001b[0m\u001b[0;36m0\u001b[0m\u001b[0;34m]\u001b[0m\u001b[0;34m)\u001b[0m\u001b[0;34m\u001b[0m\u001b[0;34m\u001b[0m\u001b[0m\n",
      "\u001b[0;31mNameError\u001b[0m: name 'rt1' is not defined"
     ]
    }
   ],
   "source": [
    "ttc.plot_param_quantiles(klds=metrics,train_list=test_list,model=model)"
   ]
  },
  {
   "cell_type": "code",
   "execution_count": null,
   "metadata": {},
   "outputs": [],
   "source": []
  }
 ],
 "metadata": {
  "kernelspec": {
   "display_name": "Python 3",
   "language": "python",
   "name": "python3"
  },
  "language_info": {
   "codemirror_mode": {
    "name": "ipython",
    "version": 3
   },
   "file_extension": ".py",
   "mimetype": "text/x-python",
   "name": "python",
   "nbconvert_exporter": "python",
   "pygments_lexer": "ipython3",
   "version": "3.8.3"
  }
 },
 "nbformat": 4,
 "nbformat_minor": 4
}
