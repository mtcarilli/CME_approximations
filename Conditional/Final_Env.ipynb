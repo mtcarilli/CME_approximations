{
 "cells": [
  {
   "cell_type": "markdown",
   "metadata": {},
   "source": [
    "## Calculating P(m,n)\n",
    "\n",
    "\n",
    "Load in numpy and ypred_module. \n",
    "\n",
    "Currently the path to the model is './models/20220422_cheb_hyp_MODEL' but if you save it to another directory, change that at the top of ypred_module.py before importing."
   ]
  },
  {
   "cell_type": "code",
   "execution_count": 99,
   "metadata": {},
   "outputs": [],
   "source": [
    "import numpy as np\n",
    "import matplotlib.pyplot as plt\n",
    "import ypred_module as ypm\n",
    "import torch\n",
    "# import scipy\n",
    "# from scipy import stats\n",
    "import time"
   ]
  },
  {
   "cell_type": "markdown",
   "metadata": {},
   "source": [
    "Define some p vector (log of b, beta, gamma) as an array."
   ]
  },
  {
   "cell_type": "code",
   "execution_count": 4,
   "metadata": {},
   "outputs": [],
   "source": [
    "p = np.array([1.0048,  -0.6288,  -0.6148])"
   ]
  },
  {
   "cell_type": "markdown",
   "metadata": {},
   "source": [
    "And get the probability at n, m!"
   ]
  },
  {
   "cell_type": "code",
   "execution_count": 5,
   "metadata": {},
   "outputs": [
    {
     "data": {
      "text/plain": [
       "5.0763739840136876e-05"
      ]
     },
     "execution_count": 5,
     "metadata": {},
     "output_type": "execute_result"
    }
   ],
   "source": [
    "ypm.get_prob(p,nas=7,mat=8)"
   ]
  },
  {
   "cell_type": "markdown",
   "metadata": {},
   "source": [
    "# Plotting\n",
    "\n",
    "\n",
    "Compare predictions to stored ground truth. \n",
    "\n",
    "\n",
    "First load in data."
   ]
  },
  {
   "cell_type": "code",
   "execution_count": 6,
   "metadata": {},
   "outputs": [],
   "source": [
    "path ='/home/mcarilli/CME/2D_CME/learning_environment/training_data_quadvec/'\n",
    "\n",
    "data_array = np.load(path+'256_0.npy',allow_pickle=True)"
   ]
  },
  {
   "cell_type": "markdown",
   "metadata": {},
   "source": [
    "Choose a pdf to plot."
   ]
  },
  {
   "cell_type": "code",
   "execution_count": 7,
   "metadata": {},
   "outputs": [
    {
     "data": {
      "text/plain": [
       "(31, 55)"
      ]
     },
     "execution_count": 7,
     "metadata": {},
     "output_type": "execute_result"
    }
   ],
   "source": [
    "i = 103\n",
    "\n",
    "pdf = data_array[i][1]\n",
    "p = data_array[i][0]\n",
    "\n",
    "pdf.shape"
   ]
  },
  {
   "cell_type": "markdown",
   "metadata": {},
   "source": [
    "A little slow."
   ]
  },
  {
   "cell_type": "code",
   "execution_count": 8,
   "metadata": {},
   "outputs": [],
   "source": [
    "predicted = np.zeros((pdf.shape))\n",
    "\n",
    "for n in range(pdf.shape[0]):\n",
    "    for m in range(pdf.shape[1]):\n",
    "        \n",
    "        P = ypm.get_prob(p,n,m)\n",
    "        predicted[n,m] = P\n"
   ]
  },
  {
   "cell_type": "code",
   "execution_count": 76,
   "metadata": {},
   "outputs": [],
   "source": [
    "def approximate_conditional(p,n,m):\n",
    "    p = torch.tensor(10**p)\n",
    "    MU, VAR, STD, xmax = [torch.tensor( x) for x in ypm.get_moments(p)]\n",
    "    \n",
    "    COV = p[0]**2/(p[1]+p[2])\n",
    "    n = torch.tensor(n)\n",
    "    m = torch.tensor(m)\n",
    "    \n",
    "    logvar = torch.log((VAR/MU**2)+1)\n",
    "    logstd = torch.sqrt(logvar)\n",
    "    logmean = torch.log(MU**2/torch.sqrt(VAR+MU**2))\n",
    "\n",
    "    logcov = torch.log(COV * torch.exp(-(logmean.sum()+logvar.sum()/2)) +1 ) \n",
    "    logcorr = logcov/torch.sqrt(logvar.prod())\n",
    "\n",
    "    logmean_cond = logmean[1] + logcorr * logstd[1]/logstd[0] * (torch.log(n+1) - logmean[0])\n",
    "    logstd_cond = logstd[1] * torch.sqrt(1-logcorr**2)   \n",
    "    logvar_cond = logstd_cond**2\n",
    "\n",
    "    mean_cond = torch.exp(logmean_cond + logvar_cond/2)\n",
    "    var_cond = torch.exp(2*logmean_cond + logvar_cond) * (torch.exp(logvar_cond) - 1)\n",
    "\n",
    "    r = 1/p[1]\n",
    "    r_cond = mean_cond**2/(var_cond-mean_cond)\n",
    "    p_cond = mean_cond/var_cond\n",
    "    prefactor = torch.lgamma(n+r) - torch.lgamma(n+1) - torch.lgamma(r) \\\n",
    "                + r * torch.log(r/(r+MU[0])) + n * torch.log(MU[0]/(r+MU[0]))\n",
    "    \n",
    "    if r>0 and p_cond>0 and p_cond<1:\n",
    "        y_ = torch.lgamma(m+r_cond) - torch.lgamma(m+1) - torch.lgamma(r_cond) \\\n",
    "                + r_cond * torch.log(r_cond/(r_cond+mean_cond)) + m * torch.log(mean_cond/(r_cond+mean_cond))\n",
    "    else: \n",
    "        y_ = m*torch.log(mean_cond) - mean_cond - torch.lgamma(m+1) \n",
    "    P = prefactor +  y_\n",
    "\n",
    "    return np.exp(P)\n"
   ]
  },
  {
   "cell_type": "code",
   "execution_count": 136,
   "metadata": {},
   "outputs": [],
   "source": [
    "def approximate_conditional_tensorval(p,n,m):\n",
    "    p = torch.tensor(10**p)\n",
    "    MU, VAR, STD, xmax = [torch.tensor(x) for x in ypm.get_moments(p)]\n",
    "    \n",
    "    COV = p[0]**2/(p[1]+p[2])\n",
    "    n = torch.tensor(n)\n",
    "    m = torch.tensor(m)\n",
    "    \n",
    "    logvar = torch.log((VAR/MU**2)+1)\n",
    "    logstd = torch.sqrt(logvar)\n",
    "    logmean = torch.log(MU**2/torch.sqrt(VAR+MU**2))\n",
    "\n",
    "    logcov = torch.log(COV * torch.exp(-(logmean.sum()+logvar.sum()/2)) +1 ) \n",
    "    logcorr = logcov/torch.sqrt(logvar.prod())\n",
    "\n",
    "    logmean_cond = logmean[1] + logcorr * logstd[1]/logstd[0] * (torch.log(n+1) - logmean[0])\n",
    "    logvar_cond = logvar[1] * (1-logcorr**2)   \n",
    "\n",
    "    mean_cond = torch.exp(logmean_cond + logvar_cond/2)\n",
    "    var_cond = torch.exp(2*logmean_cond + logvar_cond) * (torch.exp(logvar_cond) - 1)\n",
    "\n",
    "    r = 1/p[1]\n",
    "    r_cond = mean_cond**2/(var_cond-mean_cond)\n",
    "    p_cond = mean_cond/var_cond\n",
    "    prefactor = torch.lgamma(n+r) - torch.lgamma(n+1) - torch.lgamma(r) \\\n",
    "                + r * torch.log(r/(r+MU[0])) + n * torch.log(MU[0]/(r+MU[0]))\n",
    "\n",
    "    y_ = m * torch.log(mean_cond) - mean_cond - torch.lgamma(m+1) \n",
    "    filt = torch.logical_and(torch.logical_and(r>0,p_cond>0), p_cond<1)\n",
    "    y_[filt] += torch.lgamma(m[filt]+r_cond[filt])  - torch.lgamma(r_cond[filt]) \\\n",
    "                + r_cond[filt] * torch.log(r_cond[filt]/(r_cond[filt]+mean_cond[filt])) \\\n",
    "                - m[filt] * torch.log(r_cond[filt]+mean_cond[filt]) + mean_cond[filt]\n",
    "\n",
    "    P = prefactor +  y_\n",
    "\n",
    "    return np.exp(P)\n"
   ]
  },
  {
   "cell_type": "code",
   "execution_count": null,
   "metadata": {},
   "outputs": [],
   "source": []
  },
  {
   "cell_type": "code",
   "execution_count": 113,
   "metadata": {},
   "outputs": [],
   "source": [
    "N,M = np.meshgrid(range(pdf.shape[0]),range(pdf.shape[1]),indexing='ij')\n",
    "# N = N.flatten()\n",
    "# M = M.flatten()"
   ]
  },
  {
   "cell_type": "code",
   "execution_count": 114,
   "metadata": {},
   "outputs": [
    {
     "name": "stderr",
     "output_type": "stream",
     "text": [
      "/tmp/ipykernel_59604/4272770790.py:3: UserWarning: To copy construct from a tensor, it is recommended to use sourceTensor.clone().detach() or sourceTensor.clone().detach().requires_grad_(True), rather than torch.tensor(sourceTensor).\n",
      "  MU, VAR, STD, xmax = [torch.tensor( x) for x in ypm.get_moments(p)]\n"
     ]
    },
    {
     "name": "stdout",
     "output_type": "stream",
     "text": [
      "Runtime: 14.702930 seconds.\n"
     ]
    }
   ],
   "source": [
    "t1 = time.time()\n",
    "predicted_nb = np.zeros((pdf.shape))\n",
    "\n",
    "for n in range(pdf.shape[0]):\n",
    "    for m in range(pdf.shape[1]):\n",
    "        \n",
    "        P = approximate_conditional(p,n,m)\n",
    "        predicted_nb[n,m] = P\n",
    "\n",
    "t2 = time.time()\n",
    "print('Runtime: {:.6f} seconds.'.format(t2-t1))"
   ]
  },
  {
   "cell_type": "code",
   "execution_count": 137,
   "metadata": {},
   "outputs": [
    {
     "name": "stdout",
     "output_type": "stream",
     "text": [
      "Runtime: 0.003915 seconds.\n"
     ]
    },
    {
     "name": "stderr",
     "output_type": "stream",
     "text": [
      "/tmp/ipykernel_59604/1393527614.py:3: UserWarning: To copy construct from a tensor, it is recommended to use sourceTensor.clone().detach() or sourceTensor.clone().detach().requires_grad_(True), rather than torch.tensor(sourceTensor).\n",
      "  MU, VAR, STD, xmax = [torch.tensor(x) for x in ypm.get_moments(p)]\n"
     ]
    }
   ],
   "source": [
    "t1 = time.time()\n",
    "predicted_nb = approximate_conditional_tensorval(p,N,M).detach().numpy()\n",
    "t2 = time.time()\n",
    "print('Runtime: {:.6f} seconds.'.format(t2-t1))"
   ]
  },
  {
   "cell_type": "code",
   "execution_count": null,
   "metadata": {},
   "outputs": [],
   "source": []
  },
  {
   "cell_type": "code",
   "execution_count": null,
   "metadata": {},
   "outputs": [],
   "source": []
  },
  {
   "cell_type": "code",
   "execution_count": 138,
   "metadata": {},
   "outputs": [
    {
     "data": {
      "image/png": "[encoded data removed]",
      "text/plain": [
       "<Figure size 1080x720 with 6 Axes>"
      ]
     },
     "metadata": {
      "needs_background": "light"
     },
     "output_type": "display_data"
    }
   ],
   "source": [
    "P = pdf\n",
    "Papprox = predicted\n",
    "\n",
    "Plog = np.log(P)\n",
    "Papproxlog = np.log(Papprox)\n",
    "Pnblog = np.log(predicted_nb)\n",
    "\n",
    "fig1,ax1=plt.subplots(nrows=2,ncols=3,figsize=(15,10))\n",
    "\n",
    "ax1[0,0].imshow(P,aspect='auto')\n",
    "ax1[0,0].invert_yaxis()\n",
    "ax1[0,0].set_title('True Probability')\n",
    "ax1[0,0].set_xlabel('# mature')\n",
    "ax1[0,0].set_ylabel('# nascent')\n",
    "\n",
    "KLD = -np.sum(P.flatten()*np.log(Papprox.flatten()/P.flatten()))\n",
    "ax1[0,1].imshow(Papprox,aspect='auto')\n",
    "ax1[0,1].invert_yaxis()\n",
    "ax1[0,1].set_title(f'Approximation, KLD {KLD:.5f}')\n",
    "ax1[0,1].set_xlabel('# mature')\n",
    "ax1[0,1].set_ylabel('# nascent')\n",
    "\n",
    "\n",
    "ax1[1,0].imshow(Plog,aspect='auto',vmin=-10,vmax=0)\n",
    "ax1[1,0].invert_yaxis()\n",
    "ax1[1,0].set_title(f'Log True Probability')\n",
    "ax1[1,0].set_xlabel('# mature')\n",
    "ax1[1,0].set_ylabel('# nascent')\n",
    "\n",
    "ax1[1,1].imshow(Papproxlog,aspect='auto',vmin=-10,vmax=0)\n",
    "ax1[1,1].invert_yaxis()\n",
    "ax1[1,1].set_title(f'Log Predicted Probability')\n",
    "ax1[1,1].set_xlabel('# mature')\n",
    "ax1[1,1].set_ylabel('# nascent');\n",
    "\n",
    "\n",
    "KLD = -np.sum(P.flatten()*np.log(predicted_nb.flatten()/P.flatten()))\n",
    "ax1[0,2].imshow(predicted_nb,aspect='auto')\n",
    "ax1[0,2].invert_yaxis()\n",
    "ax1[0,2].set_title(f'NB approximation, KLD {KLD:.5f}')\n",
    "ax1[0,2].set_xlabel('# mature')\n",
    "ax1[0,2].set_ylabel('# nascent')\n",
    "\n",
    "\n",
    "ax1[1,2].imshow(Pnblog,aspect='auto',vmin=-10,vmax=0)\n",
    "ax1[1,2].invert_yaxis()\n",
    "ax1[1,2].set_title(f'Log NB Probability')\n",
    "ax1[1,2].set_xlabel('# mature')\n",
    "ax1[1,2].set_ylabel('# nascent');"
   ]
  },
  {
   "cell_type": "code",
   "execution_count": null,
   "metadata": {},
   "outputs": [],
   "source": []
  },
  {
   "cell_type": "code",
   "execution_count": null,
   "metadata": {},
   "outputs": [],
   "source": []
  }
 ],
 "metadata": {
  "kernelspec": {
   "display_name": "Python 3",
   "language": "python",
   "name": "python3"
  },
  "language_info": {
   "codemirror_mode": {
    "name": "ipython",
    "version": 3
   },
   "file_extension": ".py",
   "mimetype": "text/x-python",
   "name": "python",
   "nbconvert_exporter": "python",
   "pygments_lexer": "ipython3",
   "version": "3.9.1"
  }
 },
 "nbformat": 4,
 "nbformat_minor": 4
}
